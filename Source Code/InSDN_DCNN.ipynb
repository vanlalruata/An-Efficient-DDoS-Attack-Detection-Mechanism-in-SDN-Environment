{
 "cells": [
  {
   "cell_type": "code",
   "execution_count": 1,
   "id": "dc5ceacf",
   "metadata": {},
   "outputs": [],
   "source": [
    "import numpy as np\n",
    "import pandas as pd\n",
    "\n",
    "import os\n",
    "import io\n",
    "\n",
    "import pickle # saving and loading trained model\n",
    "from os import path\n",
    "\n",
    "# importing required libraries for normalizing data\n",
    "from sklearn import preprocessing\n",
    "from sklearn.preprocessing import StandardScaler\n",
    "\n",
    "# importing library for plotting\n",
    "import matplotlib.pyplot as plt\n",
    "import seaborn as sn\n",
    "\n",
    "from sklearn import metrics\n",
    "from sklearn.metrics import accuracy_score # for calculating accuracy of model\n",
    "from sklearn.model_selection import train_test_split # for splitting the dataset for training and testing\n",
    "from sklearn.metrics import classification_report # for generating a classification report of model\n",
    "\n",
    "from sklearn.metrics import precision_score\n",
    "from sklearn.metrics import recall_score\n",
    "from sklearn.metrics import f1_score\n",
    "from sklearn.metrics import confusion_matrix\n",
    "\n",
    "from sklearn.metrics import roc_auc_score\n",
    "from sklearn.metrics import roc_curve, auc\n",
    "\n",
    "import tensorflow as tf\n",
    "from tensorflow import keras\n",
    "\n",
    "from keras.layers import Dropout, Activation\n",
    "from keras.layers import Dense # importing dense layer\n",
    "from keras.models import Sequential #importing Sequential layer\n",
    "from keras.models import model_from_json # saving and loading trained model\n",
    "\n",
    "from keras.layers import LSTM\n",
    "from keras.layers import Input\n",
    "from keras.models import Model\n",
    "\n",
    "from keras.utils.vis_utils import plot_model"
   ]
  },
  {
   "cell_type": "code",
   "execution_count": 2,
   "id": "dad36bc6",
   "metadata": {},
   "outputs": [
    {
     "name": "stdout",
     "output_type": "stream",
     "text": [
      "PhysicalDevice(name='/physical_device:GPU:0', device_type='GPU') \n",
      "\n"
     ]
    }
   ],
   "source": [
    "gpus = tf.config.experimental.list_physical_devices('GPU')\n",
    "if gpus:\n",
    "  for gpu in gpus:\n",
    "    tf.config.experimental.set_memory_growth(gpu, True)\n",
    "    print(gpu, \"\\n\")\n",
    "else:\n",
    "  print(\"No GPU device found\")"
   ]
  },
  {
   "cell_type": "code",
   "execution_count": 3,
   "id": "d4b70a6f",
   "metadata": {},
   "outputs": [
    {
     "name": "stdout",
     "output_type": "stream",
     "text": [
      "Sun Feb 26 08:38:03 2023       \n",
      "+-----------------------------------------------------------------------------+\n",
      "| NVIDIA-SMI 528.24       Driver Version: 528.24       CUDA Version: 12.0     |\n",
      "|-------------------------------+----------------------+----------------------+\n",
      "| GPU  Name            TCC/WDDM | Bus-Id        Disp.A | Volatile Uncorr. ECC |\n",
      "| Fan  Temp  Perf  Pwr:Usage/Cap|         Memory-Usage | GPU-Util  Compute M. |\n",
      "|                               |                      |               MIG M. |\n",
      "|===============================+======================+======================|\n",
      "|   0  NVIDIA GeForce ... WDDM  | 00000000:01:00.0  On |                  N/A |\n",
      "| 35%   53C    P8    13W / 200W |   5614MiB /  8192MiB |      6%      Default |\n",
      "|                               |                      |                  N/A |\n",
      "+-------------------------------+----------------------+----------------------+\n",
      "                                                                               \n",
      "+-----------------------------------------------------------------------------+\n",
      "| Processes:                                                                  |\n",
      "|  GPU   GI   CI        PID   Type   Process name                  GPU Memory |\n",
      "|        ID   ID                                                   Usage      |\n",
      "|=============================================================================|\n",
      "|    0   N/A  N/A      2540    C+G   ...me\\Application\\chrome.exe    N/A      |\n",
      "|    0   N/A  N/A      5624    C+G   ...587.50\\msedgewebview2.exe    N/A      |\n",
      "|    0   N/A  N/A      8468    C+G   ...587.50\\msedgewebview2.exe    N/A      |\n",
      "|    0   N/A  N/A     12684    C+G   ...n1h2txyewy\\SearchHost.exe    N/A      |\n",
      "|    0   N/A  N/A     13472    C+G   ...e\\root\\Office16\\EXCEL.EXE    N/A      |\n",
      "|    0   N/A  N/A     13604    C+G   ...perience\\NVIDIA Share.exe    N/A      |\n",
      "|    0   N/A  N/A     16060    C+G   ...v1g1gvanyjgm\\WhatsApp.exe    N/A      |\n",
      "|    0   N/A  N/A     19844    C+G   C:\\Windows\\explorer.exe         N/A      |\n",
      "|    0   N/A  N/A     21968    C+G   ...artMenuExperienceHost.exe    N/A      |\n",
      "|    0   N/A  N/A     28060      C   ...uata\\anaconda3\\python.exe    N/A      |\n",
      "+-----------------------------------------------------------------------------+\n"
     ]
    }
   ],
   "source": [
    "!nvidia-smi"
   ]
  },
  {
   "cell_type": "code",
   "execution_count": 4,
   "id": "2f88153e",
   "metadata": {},
   "outputs": [
    {
     "name": "stdout",
     "output_type": "stream",
     "text": [
      "Read in metasploitable-2.csv\n",
      "Read in Normal_data.csv\n",
      "Read in OVS.csv\n",
      "Finisehd reading in 343889 entires\n"
     ]
    }
   ],
   "source": [
    "csv_files = os.listdir('H:/Datasets/InSDN')\n",
    "df = pd.DataFrame()\n",
    "\n",
    "li = []\n",
    "\n",
    "for filename in csv_files:\n",
    "    df = pd.read_csv(os.path.join('H:/Datasets/InSDN', filename), low_memory=False, index_col=None, header=0)\n",
    "    li.append(df)\n",
    "    print(\"Read in {}\".format(filename))\n",
    "\n",
    "df = pd.concat(li, axis=0, ignore_index=True)\n",
    "\n",
    "print(\"Finisehd reading in {} entires\".format(str(df.shape[0])))"
   ]
  },
  {
   "cell_type": "code",
   "execution_count": 5,
   "id": "23b36dfc",
   "metadata": {},
   "outputs": [],
   "source": [
    "metadata = ['Flow ID',\n",
    "'Src IP',\n",
    "'Src Port',\n",
    "'Dst IP',\n",
    "'Dst Port',\n",
    "'Protocol',\n",
    "'Timestamp',\n",
    "'Flow Duration',\n",
    "'Tot Fwd Pkts',\n",
    "'Tot Bwd Pkts',\n",
    "'TotLen Fwd Pkts',\n",
    "'TotLen Bwd Pkts',\n",
    "'Fwd Pkt Len Max',\n",
    "'Fwd Pkt Len Min',\n",
    "'Fwd Pkt Len Mean',\n",
    "'Fwd Pkt Len Std',\n",
    "'Bwd Pkt Len Max',\n",
    "'Bwd Pkt Len Min',\n",
    "'Bwd Pkt Len Mean',\n",
    "'Bwd Pkt Len Std',\n",
    "'Flow Byts/s',\n",
    "'Flow Pkts/s',\n",
    "'Flow IAT Mean',\n",
    "'Flow IAT Std',\n",
    "'Flow IAT Max',\n",
    "'Flow IAT Min',\n",
    "'Fwd IAT Tot',\n",
    "'Fwd IAT Mean',\n",
    "'Fwd IAT Std',\n",
    "'Fwd IAT Max',\n",
    "'Fwd IAT Min',\n",
    "'Bwd IAT Tot',\n",
    "'Bwd IAT Mean',\n",
    "'Bwd IAT Std',\n",
    "'Bwd IAT Max',\n",
    "'Bwd IAT Min',\n",
    "'Fwd PSH Flags',\n",
    "'Bwd PSH Flags',\n",
    "'Fwd URG Flags',\n",
    "'Bwd URG Flags',\n",
    "'Fwd Header Len',\n",
    "'Bwd Header Len',\n",
    "'Fwd Pkts/s',\n",
    "'Bwd Pkts/s',\n",
    "'Pkt Len Min',\n",
    "'Pkt Len Max',\n",
    "'Pkt Len Mean',\n",
    "'Pkt Len Std',\n",
    "'Pkt Len Var',\n",
    "'FIN Flag Cnt',\n",
    "'SYN Flag Cnt',\n",
    "'RST Flag Cnt',\n",
    "'PSH Flag Cnt',\n",
    "'ACK Flag Cnt',\n",
    "'URG Flag Cnt',\n",
    "'CWE Flag Count',\n",
    "'ECE Flag Cnt',\n",
    "'Down/Up Ratio',\n",
    "'Pkt Size Avg',\n",
    "'Fwd Seg Size Avg',\n",
    "'Bwd Seg Size Avg',\n",
    "'Fwd Byts/b Avg',\n",
    "'Fwd Pkts/b Avg',\n",
    "'Fwd Blk Rate Avg',\n",
    "'Bwd Byts/b Avg',\n",
    "'Bwd Pkts/b Avg',\n",
    "'Bwd Blk Rate Avg',\n",
    "'Subflow Fwd Pkts',\n",
    "'Subflow Fwd Byts',\n",
    "'Subflow Bwd Pkts',\n",
    "'Subflow Bwd Byts',\n",
    "'Init Fwd Win Byts',\n",
    "'Init Bwd Win Byts',\n",
    "'Fwd Act Data Pkts',\n",
    "'Fwd Seg Size Min',\n",
    "'Active Mean',\n",
    "'Active Std',\n",
    "'Active Max',\n",
    "'Active Min',\n",
    "'Idle Mean',\n",
    "'Idle Std',\n",
    "'Idle Max',\n",
    "'Idle Min',\n",
    "'Label'\n",
    "]"
   ]
  },
  {
   "cell_type": "code",
   "execution_count": 6,
   "id": "47a3c4aa",
   "metadata": {},
   "outputs": [],
   "source": [
    "df.columns = metadata"
   ]
  },
  {
   "cell_type": "code",
   "execution_count": 7,
   "id": "b25e65ec",
   "metadata": {},
   "outputs": [
    {
     "data": {
      "text/plain": [
       "DDoS          121942\n",
       "Probe          98129\n",
       "Normal         68424\n",
       "DoS            53616\n",
       "BFA             1405\n",
       "Web-Attack       192\n",
       "BOTNET           164\n",
       "U2R               17\n",
       "Name: Label, dtype: int64"
      ]
     },
     "execution_count": 7,
     "metadata": {},
     "output_type": "execute_result"
    }
   ],
   "source": [
    "df[\"Label\"].value_counts()"
   ]
  },
  {
   "cell_type": "code",
   "execution_count": 8,
   "id": "12392b37",
   "metadata": {},
   "outputs": [],
   "source": [
    "from scipy.stats import zscore\n",
    "\n",
    "def expand_categories(values):\n",
    "    result = []\n",
    "    s = values.value_counts()\n",
    "    t = float(len(values))\n",
    "    for v in s.index:\n",
    "        result.append(\"{}:{}%\".format(v,round(100*(s[v]/t),2)))\n",
    "    return \"[{}]\".format(\",\".join(result))\n",
    "        \n",
    "def analyze(df):\n",
    "    print()\n",
    "    cols = df.columns.values\n",
    "    total = float(len(df))\n",
    "\n",
    "    print(\"{} rows\".format(int(total)))\n",
    "    for col in cols:\n",
    "        uniques = df[col].unique()\n",
    "        unique_count = len(uniques)\n",
    "        if unique_count>100:\n",
    "            print(\"** {}:{} ({}%)\".format(col,unique_count,int(((unique_count)/total)*100)))\n",
    "        else:\n",
    "            print(\"** {}:{}\".format(col,expand_categories(df[col])))\n",
    "            expand_categories(df[col])"
   ]
  },
  {
   "cell_type": "code",
   "execution_count": 9,
   "id": "b6180b2b",
   "metadata": {},
   "outputs": [
    {
     "data": {
      "text/plain": [
       "<Figure size 1440x1440 with 0 Axes>"
      ]
     },
     "metadata": {},
     "output_type": "display_data"
    },
    {
     "data": {
      "image/png": "[encoded data removed]",
      "text/plain": [
       "<Figure size 1440x1440 with 1 Axes>"
      ]
     },
     "metadata": {
      "needs_background": "light"
     },
     "output_type": "display_data"
    }
   ],
   "source": [
    "import matplotlib.pyplot as plt\n",
    "from matplotlib.pyplot import *\n",
    "\n",
    "plt.figure(figsize=(20,20))\n",
    "\n",
    "fig, ax = plt.subplots(figsize=(20,20))\n",
    "\n",
    "class_distribution = df['Label'].value_counts()\n",
    "class_distribution.plot(kind='bar')\n",
    "plt.xlabel('Class')\n",
    "plt.ylabel('Data points per Class')\n",
    "plt.title('Distribution of InSDN Training Data Before Cleaning')\n",
    "plt.grid()\n",
    "plt.show()\n",
    "\n",
    "fig.savefig('InSDN_Data_Distribution.pdf') "
   ]
  },
  {
   "cell_type": "code",
   "execution_count": 10,
   "id": "624be12e",
   "metadata": {},
   "outputs": [
    {
     "name": "stdout",
     "output_type": "stream",
     "text": [
      "Number of data points in class DDoS : 121942 ( 35.46 %)\n",
      "Number of data points in class Probe : 98129 ( 28.535 %)\n",
      "Number of data points in class Normal : 68424 ( 19.897 %)\n",
      "Number of data points in class DoS : 53616 ( 15.591 %)\n",
      "Number of data points in class BFA : 1405 ( 0.409 %)\n",
      "Number of data points in class Web-Attack : 192 ( 0.056 %)\n",
      "Number of data points in class BOTNET : 164 ( 0.048 %)\n",
      "Number of data points in class U2R : 17 ( 0.005 %)\n"
     ]
    }
   ],
   "source": [
    "# Before Cleaning Data set for Duplicate\n",
    "sorted_ds = np.argsort(-class_distribution.values)\n",
    "for i in sorted_ds:\n",
    "    print('Number of data points in class', class_distribution.index[i],':', class_distribution.values[i], \n",
    "          '(', np.round((class_distribution.values[i]/df.shape[0]*100), 3), '%)')"
   ]
  },
  {
   "cell_type": "code",
   "execution_count": 11,
   "id": "e7f0dfd8",
   "metadata": {},
   "outputs": [
    {
     "name": "stdout",
     "output_type": "stream",
     "text": [
      "Read 343889 rows.\n"
     ]
    }
   ],
   "source": [
    "#drop na values and reset index\n",
    "data_clean = df.dropna().reset_index()\n",
    "\n",
    "# Checkng for DUPLICATE values\n",
    "data_clean.drop_duplicates(keep='first', inplace = True)\n",
    "\n",
    "data_clean['Label'].value_counts()\n",
    "\n",
    "print(\"Read {} rows.\".format(len(data_clean)))"
   ]
  },
  {
   "cell_type": "code",
   "execution_count": 12,
   "id": "686078a9",
   "metadata": {},
   "outputs": [
    {
     "name": "stdout",
     "output_type": "stream",
     "text": [
      "After dropping some columns: \n",
      "\t there are 78 columns and 343889 rows\n"
     ]
    }
   ],
   "source": [
    "# Remove columns with only values of 0\n",
    "useless_columns = ['Flow ID', 'Timestamp', 'Src IP', 'Dst IP', 'Src Port', 'Dst Port']\n",
    "df.drop(labels=useless_columns, axis='columns', inplace=True)\n",
    "print('After dropping some columns: \\n\\t there are {} columns and {} rows'.format(len(df.columns), len(df)))\n",
    "\n",
    "#features = df.columns"
   ]
  },
  {
   "cell_type": "code",
   "execution_count": 13,
   "id": "dfd85fe6",
   "metadata": {},
   "outputs": [
    {
     "name": "stdout",
     "output_type": "stream",
     "text": [
      "\n",
      "343889 rows\n",
      "** Protocol:[6:54.68%,0:35.43%,17:9.89%]\n",
      "** Flow Duration:85380 (24%)\n",
      "** Tot Fwd Pkts:569 (0%)\n",
      "** Tot Bwd Pkts:699 (0%)\n",
      "** TotLen Fwd Pkts:5602 (1%)\n",
      "** TotLen Bwd Pkts:7585 (2%)\n",
      "** Fwd Pkt Len Max:2132 (0%)\n",
      "** Fwd Pkt Len Min:[0:90.5%,34:1.41%,30:1.33%,32:1.13%,33:0.96%,95:0.85%,36:0.52%,40:0.44%,35:0.41%,42:0.26%,38:0.22%,51:0.21%,50:0.19%,37:0.18%,31:0.15%,45:0.14%,39:0.14%,43:0.11%,46:0.09%,174:0.09%,47:0.09%,60:0.08%,48:0.07%,44:0.06%,29:0.06%,49:0.04%,178:0.04%,22:0.04%,41:0.03%,28:0.03%,27:0.02%,137:0.01%,1300:0.01%,2600:0.01%,200:0.0%,52:0.0%,86:0.0%,90:0.0%,65:0.0%,53:0.0%,77:0.0%,83:0.0%,25:0.0%,498:0.0%,55:0.0%,59:0.0%,3900:0.0%,1210:0.0%,161:0.0%,58:0.0%,156:0.0%,247:0.0%,61:0.0%,152:0.0%,23:0.0%,133:0.0%,476:0.0%,207:0.0%,488:0.0%,54:0.0%,509:0.0%,3810:0.0%,519:0.0%,2510:0.0%,154:0.0%,1211:0.0%,327:0.0%,274:0.0%,2521:0.0%,309:0.0%,317:0.0%,436:0.0%,1:0.0%,5:0.0%,10:0.0%,57:0.0%]\n",
      "** Fwd Pkt Len Mean:9698 (2%)\n",
      "** Fwd Pkt Len Std:11879 (3%)\n",
      "** Bwd Pkt Len Max:2988 (0%)\n",
      "** Bwd Pkt Len Min:[0:89.57%,34:1.44%,30:1.43%,32:1.13%,33:1.01%,178:0.83%,36:0.6%,35:0.47%,40:0.45%,31:0.42%,42:0.27%,50:0.26%,46:0.23%,51:0.21%,37:0.2%,38:0.19%,45:0.17%,39:0.15%,43:0.13%,60:0.1%,47:0.1%,174:0.09%,48:0.08%,29:0.07%,44:0.06%,49:0.05%,95:0.05%,22:0.04%,28:0.04%,41:0.04%,53:0.03%,27:0.02%,498:0.02%,137:0.01%,59:0.01%,208:0.0%,52:0.0%,90:0.0%,65:0.0%,83:0.0%,25:0.0%,201:0.0%,55:0.0%,58:0.0%,61:0.0%,500:0.0%,54:0.0%,224:0.0%,539:0.0%,23:0.0%,77:0.0%,761:0.0%,215:0.0%,448:0.0%,226:0.0%,317:0.0%,12:0.0%,437:0.0%,380:0.0%,171:0.0%,436:0.0%,309:0.0%,360:0.0%,57:0.0%]\n",
      "** Bwd Pkt Len Mean:10844 (3%)\n",
      "** Bwd Pkt Len Std:13295 (3%)\n",
      "** Flow Byts/s:117635 (34%)\n",
      "** Flow Pkts/s:103115 (29%)\n",
      "** Flow IAT Mean:104171 (30%)\n",
      "** Flow IAT Std:110430 (32%)\n",
      "** Flow IAT Max:48508 (14%)\n",
      "** Flow IAT Min:18156 (5%)\n",
      "** Fwd IAT Tot:39965 (11%)\n",
      "** Fwd IAT Mean:52707 (15%)\n",
      "** Fwd IAT Std:50622 (14%)\n",
      "** Fwd IAT Max:39042 (11%)\n",
      "** Fwd IAT Min:16164 (4%)\n",
      "** Bwd IAT Tot:48842 (14%)\n",
      "** Bwd IAT Mean:70928 (20%)\n",
      "** Bwd IAT Std:79014 (22%)\n",
      "** Bwd IAT Max:44259 (12%)\n",
      "** Bwd IAT Min:16693 (4%)\n",
      "** Fwd PSH Flags:[0:100.0%]\n",
      "** Bwd PSH Flags:[0:94.61%,1:5.39%]\n",
      "** Fwd URG Flags:[0:100.0%]\n",
      "** Bwd URG Flags:[0:98.84%,1:1.16%]\n",
      "** Fwd Header Len:665 (0%)\n",
      "** Bwd Header Len:1057 (0%)\n",
      "** Fwd Pkts/s:87752 (25%)\n",
      "** Bwd Pkts/s:99991 (29%)\n",
      "** Pkt Len Min:[0:90.11%,34:1.44%,30:1.37%,32:1.13%,33:1.01%,95:0.89%,36:0.6%,35:0.47%,40:0.45%,42:0.27%,50:0.26%,51:0.21%,37:0.2%,38:0.18%,45:0.17%,31:0.16%,39:0.15%,43:0.13%,47:0.1%,174:0.09%,60:0.08%,46:0.08%,48:0.08%,29:0.07%,44:0.06%,49:0.05%,22:0.04%,28:0.04%,41:0.04%,27:0.02%,137:0.01%,200:0.0%,52:0.0%,90:0.0%,65:0.0%,53:0.0%,83:0.0%,25:0.0%,55:0.0%,58:0.0%,61:0.0%,54:0.0%,23:0.0%,309:0.0%,207:0.0%,448:0.0%,133:0.0%,77:0.0%,171:0.0%,59:0.0%,57:0.0%]\n",
      "** Pkt Len Max:3279 (0%)\n",
      "** Pkt Len Mean:14684 (4%)\n",
      "** Pkt Len Std:21321 (6%)\n",
      "** Pkt Len Var:20835 (6%)\n",
      "** FIN Flag Cnt:[0:86.23%,1:13.77%]\n",
      "** SYN Flag Cnt:[0:76.31%,1:23.69%]\n",
      "** RST Flag Cnt:[0:99.89%,1:0.11%]\n",
      "** PSH Flag Cnt:[0:94.61%,1:5.39%]\n",
      "** ACK Flag Cnt:[0:72.58%,1:27.42%]\n",
      "** URG Flag Cnt:[0:98.84%,1:1.16%]\n",
      "** CWE Flag Count:[0:100.0%]\n",
      "** ECE Flag Cnt:[0:100.0%]\n",
      "** Down/Up Ratio:[0:63.88%,1:12.28%,3:12.07%,2:11.75%,4:0.01%,5:0.0%,6:0.0%,7:0.0%,8:0.0%,10:0.0%]\n",
      "** Pkt Size Avg:14479 (4%)\n",
      "** Fwd Seg Size Avg:9698 (2%)\n",
      "** Bwd Seg Size Avg:10844 (3%)\n",
      "** Fwd Byts/b Avg:[0:100.0%]\n",
      "** Fwd Pkts/b Avg:[0:100.0%]\n",
      "** Fwd Blk Rate Avg:[0:100.0%]\n",
      "** Bwd Byts/b Avg:[0:100.0%]\n",
      "** Bwd Pkts/b Avg:[0:100.0%]\n",
      "** Bwd Blk Rate Avg:[0:100.0%]\n",
      "** Subflow Fwd Pkts:569 (0%)\n",
      "** Subflow Fwd Byts:5602 (1%)\n",
      "** Subflow Bwd Pkts:699 (0%)\n",
      "** Subflow Bwd Byts:7589 (2%)\n",
      "** Init Fwd Win Byts:[-1:100.0%]\n",
      "** Init Bwd Win Byts:227 (0%)\n",
      "** Fwd Act Data Pkts:289 (0%)\n",
      "** Fwd Seg Size Min:[0:100.0%]\n",
      "** Active Mean:19103 (5%)\n",
      "** Active Std:8557 (2%)\n",
      "** Active Max:18380 (5%)\n",
      "** Active Min:16183 (4%)\n",
      "** Idle Mean:5780 (1%)\n",
      "** Idle Std:8045 (2%)\n",
      "** Idle Max:4179 (1%)\n",
      "** Idle Min:7903 (2%)\n",
      "** Label:[DDoS:35.46%,Probe:28.54%,Normal:19.9%,DoS:15.59%,BFA:0.41%,Web-Attack:0.06%,BOTNET:0.05%,U2R:0.0%]\n"
     ]
    }
   ],
   "source": [
    "analyze(df)"
   ]
  },
  {
   "cell_type": "code",
   "execution_count": 14,
   "id": "f4505fa4",
   "metadata": {},
   "outputs": [
    {
     "data": {
      "image/png": "[encoded data removed]",
      "text/plain": [
       "<Figure size 1080x504 with 1 Axes>"
      ]
     },
     "metadata": {
      "needs_background": "light"
     },
     "output_type": "display_data"
    }
   ],
   "source": [
    "plt.figure(figsize=(15,7))\n",
    "class_distribution = data_clean['Label'].value_counts()\n",
    "class_distribution.plot(kind='bar')\n",
    "plt.xlabel('Class')\n",
    "plt.ylabel('Data points per Class')\n",
    "plt.title('Distribution of Cleaned CICIDS2017 Training Data')\n",
    "plt.grid()\n",
    "plt.show()"
   ]
  },
  {
   "cell_type": "code",
   "execution_count": 15,
   "id": "2ee2facc",
   "metadata": {},
   "outputs": [
    {
     "name": "stdout",
     "output_type": "stream",
     "text": [
      "Number of data points in class DDoS : 121942 ( 35.46 %)\n",
      "Number of data points in class Probe : 98129 ( 28.535 %)\n",
      "Number of data points in class Normal : 68424 ( 19.897 %)\n",
      "Number of data points in class DoS : 53616 ( 15.591 %)\n",
      "Number of data points in class BFA : 1405 ( 0.409 %)\n",
      "Number of data points in class Web-Attack : 192 ( 0.056 %)\n",
      "Number of data points in class BOTNET : 164 ( 0.048 %)\n",
      "Number of data points in class U2R : 17 ( 0.005 %)\n"
     ]
    }
   ],
   "source": [
    "# After Cleaning Data set for Duplicate\n",
    "sorted_ds = np.argsort(-class_distribution.values)\n",
    "for i in sorted_ds:\n",
    "    print('Number of data points in class', class_distribution.index[i],':', class_distribution.values[i], \n",
    "          '(', np.round((class_distribution.values[i]/df.shape[0]*100), 3), '%)')"
   ]
  },
  {
   "cell_type": "code",
   "execution_count": 16,
   "id": "9ad9f486",
   "metadata": {},
   "outputs": [],
   "source": [
    "# Convert to numpy - Classification\n",
    "x_columns = df.columns.drop('Label')\n",
    "x = df[x_columns].values\n",
    "dummies = pd.get_dummies(df['Label']) # Classification\n",
    "outcomes = dummies.columns\n",
    "num_classes = len(outcomes)\n",
    "y = dummies.values"
   ]
  },
  {
   "cell_type": "code",
   "execution_count": 17,
   "id": "31fe53f6",
   "metadata": {},
   "outputs": [],
   "source": [
    "from sklearn.model_selection import train_test_split\n",
    "from sklearn.preprocessing import OneHotEncoder, StandardScaler, LabelEncoder\n",
    "\n",
    "\n",
    "#drop na values and reset index\n",
    "data_clean = df.dropna().reset_index()\n",
    "\n",
    "# label encoding\n",
    "labelencoder = LabelEncoder()\n",
    "data_clean['Label'] = labelencoder.fit_transform(data_clean['Label'])\n",
    "\n",
    "data_clean['Label'].value_counts()\n",
    "\n",
    "data_np = data_clean.to_numpy(dtype=\"float32\")\n",
    "data_np = data_np[~np.isinf(data_np).any(axis=1)]\n",
    "\n",
    "#del df\n",
    "\n",
    "X = data_np[:, 0:77]\n",
    "\n",
    "enc = OneHotEncoder()\n",
    "\n",
    "Y = enc.fit_transform(data_np[:,78:]).toarray()"
   ]
  },
  {
   "cell_type": "code",
   "execution_count": 18,
   "id": "4304e4f6",
   "metadata": {},
   "outputs": [],
   "source": [
    "scaler = StandardScaler()\n",
    "X_scaled = scaler.fit_transform(X)\n",
    "\n",
    "# Split the data set into training and testing\n",
    "X_train, X_test, Y_train, Y_test = train_test_split(\n",
    "    X_scaled, Y, test_size=0.25, random_state=2, shuffle=True)\n",
    "\n",
    "_features = X.shape[1]\n",
    "n_classes = Y.shape[1]"
   ]
  },
  {
   "cell_type": "code",
   "execution_count": 19,
   "id": "2b80764c",
   "metadata": {},
   "outputs": [
    {
     "data": {
      "text/plain": [
       "(343889, 77)"
      ]
     },
     "execution_count": 19,
     "metadata": {},
     "output_type": "execute_result"
    }
   ],
   "source": [
    "X.shape"
   ]
  },
  {
   "cell_type": "code",
   "execution_count": 20,
   "id": "b88c556f",
   "metadata": {},
   "outputs": [
    {
     "data": {
      "text/plain": [
       "(343889, 8)"
      ]
     },
     "execution_count": 20,
     "metadata": {},
     "output_type": "execute_result"
    }
   ],
   "source": [
    "Y.shape"
   ]
  },
  {
   "cell_type": "code",
   "execution_count": 21,
   "id": "de749920",
   "metadata": {},
   "outputs": [],
   "source": [
    "data = df.iloc[:,1:-1]"
   ]
  },
  {
   "cell_type": "code",
   "execution_count": 22,
   "id": "e41292b3",
   "metadata": {},
   "outputs": [],
   "source": [
    "from sklearn.preprocessing import LabelEncoder\n",
    "label_encoder = LabelEncoder()\n",
    "data.iloc[:,0] = label_encoder.fit_transform(data.iloc[:,0]).astype('float64')"
   ]
  },
  {
   "cell_type": "code",
   "execution_count": 23,
   "id": "8d45fa24",
   "metadata": {},
   "outputs": [],
   "source": [
    "corr = data.corr()"
   ]
  },
  {
   "cell_type": "code",
   "execution_count": null,
   "id": "0d2dcbe8",
   "metadata": {},
   "outputs": [],
   "source": [
    "import seaborn as sns\n",
    "\n",
    "sns.set(rc = {'figure.figsize':(15,10)})\n",
    "sns.heatmap(corr)"
   ]
  },
  {
   "cell_type": "code",
   "execution_count": null,
   "id": "d0ea5df2",
   "metadata": {},
   "outputs": [],
   "source": []
  },
  {
   "cell_type": "markdown",
   "id": "bf095a15",
   "metadata": {},
   "source": [
    "# DNN"
   ]
  },
  {
   "cell_type": "code",
   "execution_count": 25,
   "id": "f937364f",
   "metadata": {},
   "outputs": [],
   "source": [
    "# In order to ignore FutureWarning\n",
    "import warnings\n",
    "warnings.simplefilter(action='ignore', category=FutureWarning)\n",
    "warnings.simplefilter(action='ignore', category=DeprecationWarning)\n",
    "\n",
    "from keras.models import Sequential\n",
    "from keras import callbacks\n",
    "from keras.layers import Dense, Activation, Flatten, Convolution1D, Dropout\n",
    "from sklearn import metrics\n",
    "\n",
    "import uuid\n",
    "import gc\n",
    "from tensorflow import keras\n",
    "import tensorflow as tf"
   ]
  },
  {
   "cell_type": "code",
   "execution_count": 26,
   "id": "715652b0",
   "metadata": {},
   "outputs": [
    {
     "name": "stdout",
     "output_type": "stream",
     "text": [
      "Model: \"sequential\"\n",
      "_________________________________________________________________\n",
      " Layer (type)                Output Shape              Param #   \n",
      "=================================================================\n",
      " dense (Dense)               (None, 128)               9984      \n",
      "                                                                 \n",
      " dropout (Dropout)           (None, 128)               0         \n",
      "                                                                 \n",
      " dense_1 (Dense)             (None, 256)               33024     \n",
      "                                                                 \n",
      " dropout_1 (Dropout)         (None, 256)               0         \n",
      "                                                                 \n",
      " dense_2 (Dense)             (None, 128)               32896     \n",
      "                                                                 \n",
      " dropout_2 (Dropout)         (None, 128)               0         \n",
      "                                                                 \n",
      " dense_3 (Dense)             (None, 96)                12384     \n",
      "                                                                 \n",
      " dense_4 (Dense)             (None, 8)                 776       \n",
      "                                                                 \n",
      "=================================================================\n",
      "Total params: 89,064\n",
      "Trainable params: 89,064\n",
      "Non-trainable params: 0\n",
      "_________________________________________________________________\n",
      "Epoch 1/30\n",
      "2015/2015 [==============================] - 7s 3ms/step - loss: 0.0472 - accuracy: 0.9512 - val_loss: 0.0117 - val_accuracy: 0.9904\n",
      "Epoch 2/30\n",
      "2015/2015 [==============================] - 6s 3ms/step - loss: 0.0093 - accuracy: 0.9908 - val_loss: 0.0080 - val_accuracy: 0.9942\n",
      "Epoch 3/30\n",
      "2015/2015 [==============================] - 6s 3ms/step - loss: 0.0061 - accuracy: 0.9941 - val_loss: 0.0069 - val_accuracy: 0.9960\n",
      "Epoch 4/30\n",
      "2015/2015 [==============================] - 6s 3ms/step - loss: 0.0045 - accuracy: 0.9954 - val_loss: 0.0058 - val_accuracy: 0.9968\n",
      "Epoch 5/30\n",
      "2015/2015 [==============================] - 6s 3ms/step - loss: 0.0034 - accuracy: 0.9963 - val_loss: 0.0058 - val_accuracy: 0.9982\n",
      "Epoch 6/30\n",
      "2015/2015 [==============================] - 6s 3ms/step - loss: 0.0028 - accuracy: 0.9972 - val_loss: 0.0053 - val_accuracy: 0.9983\n",
      "Epoch 7/30\n",
      "2015/2015 [==============================] - 6s 3ms/step - loss: 0.0022 - accuracy: 0.9980 - val_loss: 0.0049 - val_accuracy: 0.9985\n",
      "Epoch 8/30\n",
      "2015/2015 [==============================] - 6s 3ms/step - loss: 0.0019 - accuracy: 0.9981 - val_loss: 0.0043 - val_accuracy: 0.9987\n",
      "Epoch 9/30\n",
      "2015/2015 [==============================] - 6s 3ms/step - loss: 0.0016 - accuracy: 0.9984 - val_loss: 0.0046 - val_accuracy: 0.9989\n",
      "Epoch 10/30\n",
      "2015/2015 [==============================] - 6s 3ms/step - loss: 0.0014 - accuracy: 0.9985 - val_loss: 0.0042 - val_accuracy: 0.9989\n",
      "Epoch 11/30\n",
      "2015/2015 [==============================] - 6s 3ms/step - loss: 0.0013 - accuracy: 0.9986 - val_loss: 0.0043 - val_accuracy: 0.9993\n",
      "Epoch 12/30\n",
      "2015/2015 [==============================] - 6s 3ms/step - loss: 0.0010 - accuracy: 0.9988 - val_loss: 0.0043 - val_accuracy: 0.9991\n",
      "Epoch 13/30\n",
      "2015/2015 [==============================] - 6s 3ms/step - loss: 9.6418e-04 - accuracy: 0.9988 - val_loss: 0.0050 - val_accuracy: 0.9992\n",
      "Epoch 14/30\n",
      "2015/2015 [==============================] - 6s 3ms/step - loss: 8.8115e-04 - accuracy: 0.9989 - val_loss: 0.0049 - val_accuracy: 0.9994\n",
      "Epoch 15/30\n",
      "2015/2015 [==============================] - 6s 3ms/step - loss: 8.0772e-04 - accuracy: 0.9990 - val_loss: 0.0055 - val_accuracy: 0.9992\n",
      "Epoch 16/30\n",
      "2015/2015 [==============================] - 6s 3ms/step - loss: 6.9782e-04 - accuracy: 0.9991 - val_loss: 0.0060 - val_accuracy: 0.9994\n",
      "Epoch 17/30\n",
      "2015/2015 [==============================] - 6s 3ms/step - loss: 6.6602e-04 - accuracy: 0.9992 - val_loss: 0.0061 - val_accuracy: 0.9995\n",
      "Epoch 18/30\n",
      "2015/2015 [==============================] - 6s 3ms/step - loss: 6.2864e-04 - accuracy: 0.9992 - val_loss: 0.0062 - val_accuracy: 0.9994\n",
      "Epoch 19/30\n",
      "2015/2015 [==============================] - 6s 3ms/step - loss: 5.7718e-04 - accuracy: 0.9993 - val_loss: 0.0064 - val_accuracy: 0.9997\n",
      "Epoch 20/30\n",
      "2015/2015 [==============================] - 6s 3ms/step - loss: 5.5970e-04 - accuracy: 0.9993 - val_loss: 0.0076 - val_accuracy: 0.9997\n",
      "Epoch 21/30\n",
      "2015/2015 [==============================] - 6s 3ms/step - loss: 5.1555e-04 - accuracy: 0.9994 - val_loss: 0.0068 - val_accuracy: 0.9996\n",
      "Epoch 22/30\n",
      "2015/2015 [==============================] - 6s 3ms/step - loss: 4.9723e-04 - accuracy: 0.9994 - val_loss: 0.0066 - val_accuracy: 0.9995\n",
      "Epoch 23/30\n",
      "2015/2015 [==============================] - 6s 3ms/step - loss: 5.0372e-04 - accuracy: 0.9994 - val_loss: 0.0078 - val_accuracy: 0.9995\n",
      "Epoch 24/30\n",
      "2015/2015 [==============================] - 6s 3ms/step - loss: 4.7837e-04 - accuracy: 0.9994 - val_loss: 0.0071 - val_accuracy: 0.9997\n",
      "Epoch 25/30\n",
      "2015/2015 [==============================] - 6s 3ms/step - loss: 4.5310e-04 - accuracy: 0.9994 - val_loss: 0.0075 - val_accuracy: 0.9996\n",
      "Epoch 26/30\n",
      "2015/2015 [==============================] - 6s 3ms/step - loss: 4.4693e-04 - accuracy: 0.9995 - val_loss: 0.0074 - val_accuracy: 0.9995\n",
      "Epoch 27/30\n",
      "2015/2015 [==============================] - 6s 3ms/step - loss: 4.2687e-04 - accuracy: 0.9995 - val_loss: 0.0075 - val_accuracy: 0.9997\n",
      "Epoch 28/30\n",
      "2015/2015 [==============================] - 6s 3ms/step - loss: 4.1696e-04 - accuracy: 0.9995 - val_loss: 0.0081 - val_accuracy: 0.9996\n",
      "Epoch 29/30\n",
      "2015/2015 [==============================] - 6s 3ms/step - loss: 3.7224e-04 - accuracy: 0.9995 - val_loss: 0.0081 - val_accuracy: 0.9996\n",
      "Epoch 30/30\n",
      "2015/2015 [==============================] - 6s 3ms/step - loss: 3.9583e-04 - accuracy: 0.9995 - val_loss: 0.0091 - val_accuracy: 0.9998\n"
     ]
    }
   ],
   "source": [
    "from tensorflow.keras.callbacks import EarlyStopping\n",
    "\n",
    "\n",
    "# Simple 4 Layer Dense Model\n",
    "model = Sequential()\n",
    "model.add(Dense(128, input_dim=_features, activation='relu'))\n",
    "model.add(Dropout(0.1))\n",
    "model.add(Dense(256, activation='relu'))\n",
    "model.add(Dropout(0.1))\n",
    "model.add(Dense(128, activation='relu'))\n",
    "model.add(Dropout(0.1))\n",
    "model.add(Dense(96, kernel_initializer='normal'))\n",
    "model.add(Dense(n_classes, activation = 'softmax'))\n",
    "model.summary() \n",
    "\n",
    "opt = keras.optimizers.Adam(learning_rate=0.0001)\n",
    "model.compile(loss='BinaryCrossentropy', optimizer=opt, metrics=['accuracy'])\n",
    "\n",
    "early_stop_callback = keras.callbacks.EarlyStopping(monitor='loss', patience=5)\n",
    "reduce_lr = keras.callbacks.ReduceLROnPlateau(monitor='val_loss', factor=0.2,\n",
    "                                  patience=3, min_lr=0.001)\n",
    "    \n",
    "history = model.fit(X_train, Y_train,\n",
    "                              batch_size=128,\n",
    "                              epochs=30,\n",
    "                              verbose=True, #,callbacks=[reduce_lr, early_stop_callback],\n",
    "                              validation_data=(X_test, Y_test))"
   ]
  },
  {
   "cell_type": "code",
   "execution_count": 27,
   "id": "b0bd0841",
   "metadata": {},
   "outputs": [],
   "source": [
    "model.save('H:/Datasets/InSDN_training/model_dnn.h5')"
   ]
  },
  {
   "cell_type": "code",
   "execution_count": 28,
   "id": "3783b504",
   "metadata": {},
   "outputs": [
    {
     "name": "stdout",
     "output_type": "stream",
     "text": [
      "2687/2687 [==============================] - 4s 1ms/step - loss: 0.0091 - accuracy: 0.9998\n",
      "2687/2687 [==============================] - 2s 826us/step\n",
      "Completed\n",
      "Time taken: 0:00:07.615054\n",
      "Validation score: 0.9997906319425867\n",
      "Evaluation score: [0.009064423851668835, 0.999790608882904]\n",
      "Recall score: 0.9997906319425867\n",
      "Precision score: 0.9997557867451249\n",
      "F1 Measure score: 0.9997729356902814\n",
      "ROC-AUC score: 0.9352922816867049\n"
     ]
    },
    {
     "name": "stderr",
     "output_type": "stream",
     "text": [
      "C:\\Users\\Maruata\\anaconda3\\lib\\site-packages\\sklearn\\metrics\\_classification.py:1318: UndefinedMetricWarning: Precision is ill-defined and being set to 0.0 in labels with no predicted samples. Use `zero_division` parameter to control this behavior.\n",
      "  _warn_prf(average, modifier, msg_start, len(result))\n"
     ]
    }
   ],
   "source": [
    "import datetime as dt\n",
    "from sklearn.metrics import accuracy_score, confusion_matrix, precision_score, recall_score, f1_score, roc_auc_score\n",
    "from sklearn import preprocessing\n",
    "\n",
    "start = dt.datetime.now()\n",
    "\n",
    "escore = model.evaluate(X_test, Y_test, batch_size=32)\n",
    "pred = model.predict(X_test)\n",
    "pred = np.argmax(pred,axis=1)\n",
    "y_eval = np.argmax(Y_test,axis=1)\n",
    "\n",
    "score = metrics.accuracy_score(y_eval, pred)\n",
    "rscore = recall_score(y_eval, pred, average='weighted')\n",
    "ascore = precision_score(y_eval, pred, average='weighted')\n",
    "f1score= f1_score(y_eval, pred, average='weighted') #F1 = 2 * (precision * recall) / (precision + recall) for manual\n",
    "\n",
    "lb = preprocessing.LabelBinarizer()\n",
    "lb.fit(y_eval)\n",
    "y_eval = lb.transform(y_eval)\n",
    "pred = lb.transform(pred)\n",
    "roc_score = roc_auc_score(y_eval, pred)\n",
    "#roc_auc_socre = multiclass_roc_auc_score(y_eval, pred)\n",
    "\n",
    "print('Completed')\n",
    "print('Time taken:',dt.datetime.now()-start)\n",
    "\n",
    "print(\"Validation score: {}\".format(score))\n",
    "print(\"Evaluation score: {}\".format(escore))\n",
    "print(\"Recall score: {}\".format(rscore))\n",
    "print(\"Precision score: {}\".format(ascore))\n",
    "print(\"F1 Measure score: {}\".format(f1score))\n",
    "print(\"ROC-AUC score: {}\".format(roc_score))"
   ]
  },
  {
   "cell_type": "code",
   "execution_count": 29,
   "id": "22019c71",
   "metadata": {},
   "outputs": [],
   "source": [
    "# Plot for training and validation loss\n",
    "history_dict = history.history\n",
    "loss_values = history_dict['loss']\n",
    "val_loss_values = history_dict['val_loss']\n",
    "acc = history_dict['accuracy']\n",
    "val_acc = history_dict['val_accuracy']"
   ]
  },
  {
   "cell_type": "code",
   "execution_count": 30,
   "id": "61e17ec8",
   "metadata": {},
   "outputs": [
    {
     "name": "stdout",
     "output_type": "stream",
     "text": [
      "2687/2687 [==============================] - 2s 833us/step\n",
      "Inference time: 2.99 seconds\n"
     ]
    }
   ],
   "source": [
    "import time\n",
    "\n",
    "# Measure inference time\n",
    "start_time = time.time()\n",
    "pred = model.predict(X_test)\n",
    "end_time = time.time()\n",
    "\n",
    "inference_time = end_time - start_time\n",
    "print(\"Inference time: {:.2f} seconds\".format(inference_time))\n",
    "\n",
    "pred = np.argmax(pred,axis=1)\n",
    "y_test = Y_test.argmax(axis=1)"
   ]
  },
  {
   "cell_type": "code",
   "execution_count": 31,
   "id": "723a43e0",
   "metadata": {},
   "outputs": [
    {
     "data": {
      "text/plain": [
       "(85973,)"
      ]
     },
     "execution_count": 31,
     "metadata": {},
     "output_type": "execute_result"
    }
   ],
   "source": [
    "pred.shape\n",
    "y_test.shape"
   ]
  },
  {
   "cell_type": "code",
   "execution_count": 32,
   "id": "f6af2a5a",
   "metadata": {},
   "outputs": [
    {
     "data": {
      "text/plain": [
       "array([[  359,     0,     0,     0,     5,     0,     0,     0],\n",
       "       [    0,    42,     0,     0,     0,     0,     0,     0],\n",
       "       [    0,     0, 30496,     0,     2,     0,     0,     0],\n",
       "       [    0,     0,     1, 13422,     1,     2,     0,     0],\n",
       "       [    0,     0,     0,     0, 17053,     0,     0,     0],\n",
       "       [    0,     0,     0,     3,     0, 24536,     0,     0],\n",
       "       [    0,     0,     0,     1,     0,     2,     0,     0],\n",
       "       [    0,     0,     0,     1,     0,     0,     0,    47]],\n",
       "      dtype=int64)"
      ]
     },
     "execution_count": 32,
     "metadata": {},
     "output_type": "execute_result"
    }
   ],
   "source": [
    "from sklearn.metrics import confusion_matrix, precision_score, recall_score\n",
    "\n",
    "confMat = confusion_matrix(y_test, pred)\n",
    "confMat"
   ]
  },
  {
   "cell_type": "code",
   "execution_count": null,
   "id": "257f00fe",
   "metadata": {},
   "outputs": [],
   "source": [
    "import seaborn as sn\n",
    "\n",
    "cm_df = pd.DataFrame(confMat)\n",
    "\n",
    "labels = ['DDoS', 'Probe', 'Normal', 'DoS', 'BFA', 'Web-Attack', 'BOTNET', 'U2R']\n",
    "\n",
    "#plt.figure(figsize=(20,15))\n",
    "#sn.set(font_scale=1.4)\n",
    "sn.set(rc = {'figure.figsize':(15,10)})\n",
    "sn.heatmap(cm_df, annot=True, annot_kws={\"size\":12}, fmt='g', xticklabels=labels, yticklabels=labels, cmap='Blues')\n",
    "\n",
    "#sn.heatmap(cm_df, annot=True, annot_kws={\"size\":12}, fmt='g', xticklabels=labels, yticklabels=labels)\n",
    "plt.ylabel('Actual Class')\n",
    "plt.xlabel('Predicted Class')\n",
    "    \n",
    "plt.show()  "
   ]
  },
  {
   "cell_type": "code",
   "execution_count": null,
   "id": "913a021d",
   "metadata": {},
   "outputs": [],
   "source": []
  },
  {
   "cell_type": "markdown",
   "id": "c096f6bc",
   "metadata": {},
   "source": [
    "# DCNN"
   ]
  },
  {
   "cell_type": "code",
   "execution_count": 34,
   "id": "b8003800",
   "metadata": {},
   "outputs": [
    {
     "name": "stdout",
     "output_type": "stream",
     "text": [
      "Model: \"sequential_1\"\n",
      "_________________________________________________________________\n",
      " Layer (type)                Output Shape              Param #   \n",
      "=================================================================\n",
      " conv1d (Conv1D)             (None, 72, 128)           896       \n",
      "                                                                 \n",
      " activation (Activation)     (None, 72, 128)           0         \n",
      "                                                                 \n",
      " max_pooling1d (MaxPooling1D  (None, 36, 128)          0         \n",
      " )                                                               \n",
      "                                                                 \n",
      " conv1d_1 (Conv1D)           (None, 31, 256)           196864    \n",
      "                                                                 \n",
      " activation_1 (Activation)   (None, 31, 256)           0         \n",
      "                                                                 \n",
      " max_pooling1d_1 (MaxPooling  (None, 15, 256)          0         \n",
      " 1D)                                                             \n",
      "                                                                 \n",
      " conv1d_2 (Conv1D)           (None, 10, 128)           196736    \n",
      "                                                                 \n",
      " activation_2 (Activation)   (None, 10, 128)           0         \n",
      "                                                                 \n",
      " max_pooling1d_2 (MaxPooling  (None, 5, 128)           0         \n",
      " 1D)                                                             \n",
      "                                                                 \n",
      " flatten (Flatten)           (None, 640)               0         \n",
      "                                                                 \n",
      " dense_5 (Dense)             (None, 256)               164096    \n",
      "                                                                 \n",
      " dropout_3 (Dropout)         (None, 256)               0         \n",
      "                                                                 \n",
      " dense_6 (Dense)             (None, 128)               32896     \n",
      "                                                                 \n",
      " dropout_4 (Dropout)         (None, 128)               0         \n",
      "                                                                 \n",
      " dense_7 (Dense)             (None, 96)                12384     \n",
      "                                                                 \n",
      " dropout_5 (Dropout)         (None, 96)                0         \n",
      "                                                                 \n",
      " dense_8 (Dense)             (None, 128)               12416     \n",
      "                                                                 \n",
      " dropout_6 (Dropout)         (None, 128)               0         \n",
      "                                                                 \n",
      " dense_9 (Dense)             (None, 96)                12384     \n",
      "                                                                 \n",
      " dropout_7 (Dropout)         (None, 96)                0         \n",
      "                                                                 \n",
      " dense_10 (Dense)            (None, 8)                 776       \n",
      "                                                                 \n",
      "=================================================================\n",
      "Total params: 629,448\n",
      "Trainable params: 629,448\n",
      "Non-trainable params: 0\n",
      "_________________________________________________________________\n",
      "Epoch 1/30\n",
      "2015/2015 [==============================] - 13s 5ms/step - loss: 0.0105 - accuracy: 0.9899 - val_loss: 0.0085 - val_accuracy: 0.9951\n",
      "Epoch 2/30\n",
      "2015/2015 [==============================] - 10s 5ms/step - loss: 0.0101 - accuracy: 0.9926 - val_loss: 0.0073 - val_accuracy: 0.9969\n",
      "Epoch 3/30\n",
      "2015/2015 [==============================] - 10s 5ms/step - loss: 0.0080 - accuracy: 0.9956 - val_loss: 0.0068 - val_accuracy: 0.9976\n",
      "Epoch 4/30\n",
      "2015/2015 [==============================] - 10s 5ms/step - loss: 0.0080 - accuracy: 0.9967 - val_loss: 0.0068 - val_accuracy: 0.9977\n",
      "Epoch 5/30\n",
      "2015/2015 [==============================] - 10s 5ms/step - loss: 0.0073 - accuracy: 0.9975 - val_loss: 0.0061 - val_accuracy: 0.9984\n",
      "Epoch 6/30\n",
      "2015/2015 [==============================] - 10s 5ms/step - loss: 0.0072 - accuracy: 0.9980 - val_loss: 0.0058 - val_accuracy: 0.9987\n",
      "Epoch 7/30\n",
      "2015/2015 [==============================] - 10s 5ms/step - loss: 0.0070 - accuracy: 0.9984 - val_loss: 0.0056 - val_accuracy: 0.9988\n",
      "Epoch 8/30\n",
      "2015/2015 [==============================] - 10s 5ms/step - loss: 0.0068 - accuracy: 0.9983 - val_loss: 0.0056 - val_accuracy: 0.9989\n",
      "Epoch 9/30\n",
      "2015/2015 [==============================] - 10s 5ms/step - loss: 0.0063 - accuracy: 0.9985 - val_loss: 0.0056 - val_accuracy: 0.9989\n",
      "Epoch 10/30\n",
      "2015/2015 [==============================] - 10s 5ms/step - loss: 0.0049 - accuracy: 0.9988 - val_loss: 0.0049 - val_accuracy: 0.9991\n",
      "Epoch 11/30\n",
      "2015/2015 [==============================] - 10s 5ms/step - loss: 0.0047 - accuracy: 0.9988 - val_loss: 0.0050 - val_accuracy: 0.9992\n",
      "Epoch 12/30\n",
      "2015/2015 [==============================] - 10s 5ms/step - loss: 0.0042 - accuracy: 0.9988 - val_loss: 0.0043 - val_accuracy: 0.9992\n",
      "Epoch 13/30\n",
      "2015/2015 [==============================] - 10s 5ms/step - loss: 0.0038 - accuracy: 0.9989 - val_loss: 0.0041 - val_accuracy: 0.9993\n",
      "Epoch 14/30\n",
      "2015/2015 [==============================] - 10s 5ms/step - loss: 0.0033 - accuracy: 0.9991 - val_loss: 0.0041 - val_accuracy: 0.9993\n",
      "Epoch 15/30\n",
      "2015/2015 [==============================] - 10s 5ms/step - loss: 0.0033 - accuracy: 0.9991 - val_loss: 0.0039 - val_accuracy: 0.9993\n",
      "Epoch 16/30\n",
      "2015/2015 [==============================] - 10s 5ms/step - loss: 0.0031 - accuracy: 0.9991 - val_loss: 0.0036 - val_accuracy: 0.9994\n",
      "Epoch 17/30\n",
      "2015/2015 [==============================] - 10s 5ms/step - loss: 0.0028 - accuracy: 0.9992 - val_loss: 0.0036 - val_accuracy: 0.9994\n",
      "Epoch 18/30\n",
      "2015/2015 [==============================] - 10s 5ms/step - loss: 0.0025 - accuracy: 0.9993 - val_loss: 0.0036 - val_accuracy: 0.9995\n",
      "Epoch 19/30\n",
      "2015/2015 [==============================] - 10s 5ms/step - loss: 0.0028 - accuracy: 0.9993 - val_loss: 0.0037 - val_accuracy: 0.9995\n",
      "Epoch 20/30\n",
      "2015/2015 [==============================] - 10s 5ms/step - loss: 0.0021 - accuracy: 0.9994 - val_loss: 0.0030 - val_accuracy: 0.9996\n",
      "Epoch 21/30\n",
      "2015/2015 [==============================] - 10s 5ms/step - loss: 0.0021 - accuracy: 0.9994 - val_loss: 0.0025 - val_accuracy: 0.9996\n",
      "Epoch 22/30\n",
      "2015/2015 [==============================] - 10s 5ms/step - loss: 0.0020 - accuracy: 0.9994 - val_loss: 0.0025 - val_accuracy: 0.9996\n",
      "Epoch 23/30\n",
      "2015/2015 [==============================] - 10s 5ms/step - loss: 0.0022 - accuracy: 0.9994 - val_loss: 0.0023 - val_accuracy: 0.9997\n",
      "Epoch 24/30\n",
      "2015/2015 [==============================] - 10s 5ms/step - loss: 0.0019 - accuracy: 0.9995 - val_loss: 0.0022 - val_accuracy: 0.9997\n",
      "Epoch 25/30\n",
      "2015/2015 [==============================] - 10s 5ms/step - loss: 0.0017 - accuracy: 0.9997 - val_loss: 0.0022 - val_accuracy: 0.9998\n",
      "Epoch 26/30\n",
      "2015/2015 [==============================] - 10s 5ms/step - loss: 0.0019 - accuracy: 0.9997 - val_loss: 0.0021 - val_accuracy: 0.9998\n",
      "Epoch 27/30\n",
      "2015/2015 [==============================] - 10s 5ms/step - loss: 0.0014 - accuracy: 0.9998 - val_loss: 0.0019 - val_accuracy: 0.9999\n",
      "Epoch 28/30\n",
      "2015/2015 [==============================] - 10s 5ms/step - loss: 0.0017 - accuracy: 0.9998 - val_loss: 0.0017 - val_accuracy: 0.9999\n",
      "Epoch 29/30\n",
      "2015/2015 [==============================] - 10s 5ms/step - loss: 0.0015 - accuracy: 0.9998 - val_loss: 0.0017 - val_accuracy: 0.9999\n",
      "Epoch 30/30\n",
      "2015/2015 [==============================] - 10s 5ms/step - loss: 0.0013 - accuracy: 0.9999 - val_loss: 0.0016 - val_accuracy: 0.9999\n"
     ]
    }
   ],
   "source": [
    "# In order to ignore FutureWarning\n",
    "import warnings\n",
    "warnings.simplefilter(action='ignore', category=FutureWarning)\n",
    "warnings.simplefilter(action='ignore', category=DeprecationWarning)\n",
    "\n",
    "from keras.models import Sequential\n",
    "from keras import callbacks\n",
    "from keras.layers import Dense, Activation, Flatten, Convolution1D, Dropout, MaxPooling1D\n",
    "from sklearn import metrics\n",
    "from hyperopt import fmin, hp, tpe, Trials, STATUS_OK\n",
    "from hyperopt.plotting import main_plot_history, main_plot_vars\n",
    "import uuid\n",
    "import gc\n",
    "from tensorflow import keras\n",
    "import tensorflow as tf\n",
    "\n",
    "K = keras.backend\n",
    "\n",
    "X_train = X_train.reshape(X_train.shape[0], 77, 1).astype('float32')\n",
    "X_test = X_test.reshape(X_test.shape[0], 77, 1).astype('float32')\n",
    "\n",
    "\n",
    "# DCNN Model\n",
    "model = Sequential()\n",
    "model.add(Convolution1D(filters=128, kernel_size=6, input_shape=(_features, 1)))\n",
    "model.add(Activation('relu'))\n",
    "model.add(MaxPooling1D(pool_size=2))\n",
    "model.add(Convolution1D(filters=256, kernel_size=6))\n",
    "model.add(Activation('relu'))\n",
    "model.add(MaxPooling1D(pool_size=2))\n",
    "model.add(Convolution1D(filters=128, kernel_size=6))\n",
    "model.add(Activation('relu'))\n",
    "model.add(MaxPooling1D(pool_size=2))\n",
    "model.add(Flatten())\n",
    "model.add(Dense(256, activation='relu'))\n",
    "model.add(Dropout(0.1))\n",
    "model.add(Dense(128, activation='relu'))\n",
    "model.add(Dropout(0.1))\n",
    "model.add(Dense(96, activation='relu'))\n",
    "model.add(Dropout(0.1))\n",
    "model.add(Dense(128, activation='relu'))\n",
    "model.add(Dropout(0.1))\n",
    "model.add(Dense(96, activation='relu'))\n",
    "model.add(Dropout(0.1))\n",
    "model.add(Dense(n_classes, activation = 'softmax'))\n",
    "model.summary() \n",
    "\n",
    "opt = keras.optimizers.Adam(learning_rate=0.0001)\n",
    "model.compile(loss='categorical_crossentropy',optimizer=opt, metrics=['accuracy'])\n",
    "\n",
    "early_stop_callback = keras.callbacks.EarlyStopping(monitor='loss', patience=5)\n",
    "reduce_lr = keras.callbacks.ReduceLROnPlateau(monitor='val_loss', factor=0.2,\n",
    "                                  patience=3, min_lr=0.0001)\n",
    "    \n",
    "history = model.fit(X_train, Y_train,\n",
    "                              batch_size=128,\n",
    "                              epochs=30,\n",
    "                              verbose=True, #callbacks=[reduce_lr, early_stop_callback],\n",
    "                              validation_data=(X_test, Y_test))  "
   ]
  },
  {
   "cell_type": "code",
   "execution_count": 35,
   "id": "a53145f4",
   "metadata": {},
   "outputs": [
    {
     "name": "stdout",
     "output_type": "stream",
     "text": []
    }
   ],
   "source": [
    "model.save('H:/Datasets/InSDN_Training/model_cnn.h5')"
   ]
  },
  {
   "cell_type": "code",
   "execution_count": 36,
   "id": "6f96e53b",
   "metadata": {},
   "outputs": [
    {
     "name": "stdout",
     "output_type": "stream",
     "text": [
      "2687/2687 [==============================] - 5s 2ms/step - loss: 0.0016 - accuracy: 0.9999\n",
      "2687/2687 [==============================] - 3s 1ms/step\n",
      "Completed\n",
      "Time taken: 0:00:09.160822\n",
      "Validation score: 0.9999765798564665\n",
      "Evaluation score: [0.016197623685002327, 0.9999765520095825]\n",
      "Recall score: 0.9999765798564665\n",
      "Precision score: 0.999953595861013\n",
      "F1 Measure score: 0.9999590170695187\n",
      "ROC-AUC score: 0.945614964985918\n"
     ]
    },
    {
     "name": "stderr",
     "output_type": "stream",
     "text": [
      "C:\\Users\\Maruata\\anaconda3\\lib\\site-packages\\sklearn\\metrics\\_classification.py:1318: UndefinedMetricWarning: Precision is ill-defined and being set to 0.0 in labels with no predicted samples. Use `zero_division` parameter to control this behavior.\n",
      "  _warn_prf(average, modifier, msg_start, len(result))\n"
     ]
    }
   ],
   "source": [
    "import datetime as dt\n",
    "from sklearn.metrics import accuracy_score, confusion_matrix, precision_score, recall_score, f1_score, roc_auc_score\n",
    "from sklearn import preprocessing\n",
    "\n",
    "start = dt.datetime.now()\n",
    "\n",
    "escore = model.evaluate(X_test, Y_test, batch_size=32)\n",
    "pred = model.predict(X_test)\n",
    "pred = np.argmax(pred,axis=1)\n",
    "y_eval = np.argmax(Y_test,axis=1)\n",
    "\n",
    "score = metrics.accuracy_score(y_eval, pred)\n",
    "rscore = recall_score(y_eval, pred, average='weighted')\n",
    "ascore = precision_score(y_eval, pred, average='weighted')\n",
    "f1score= f1_score(y_eval, pred, average='weighted') #F1 = 2 * (precision * recall) / (precision + recall) for manual\n",
    "\n",
    "lb = preprocessing.LabelBinarizer()\n",
    "lb.fit(y_eval)\n",
    "y_eval = lb.transform(y_eval)\n",
    "pred = lb.transform(pred)\n",
    "roc_score = roc_auc_score(y_eval, pred)\n",
    "#roc_auc_socre = multiclass_roc_auc_score(y_eval, pred)\n",
    "\n",
    "print('Completed')\n",
    "print('Time taken:',dt.datetime.now()-start)\n",
    "\n",
    "print(\"Validation score: {}\".format(score))\n",
    "print(\"Evaluation score: {}\".format(escore))\n",
    "print(\"Recall score: {}\".format(rscore))\n",
    "print(\"Precision score: {}\".format(ascore))\n",
    "print(\"F1 Measure score: {}\".format(f1score))\n",
    "print(\"ROC-AUC score: {}\".format(roc_score))"
   ]
  },
  {
   "cell_type": "code",
   "execution_count": 37,
   "id": "8676dd4d",
   "metadata": {},
   "outputs": [],
   "source": [
    "# Plot for training and validation loss\n",
    "history_dict = history.history\n",
    "loss_values = history_dict['loss']\n",
    "val_loss_values = history_dict['val_loss']\n",
    "acc = history_dict['accuracy']\n",
    "val_acc = history_dict['val_accuracy']"
   ]
  },
  {
   "cell_type": "code",
   "execution_count": 38,
   "id": "c748eddd",
   "metadata": {},
   "outputs": [],
   "source": [
    "start_by_epoch = 1\n",
    "epochs = range(start_by_epoch, len(loss_values) + 1)"
   ]
  },
  {
   "cell_type": "code",
   "execution_count": 39,
   "id": "3fad4df6",
   "metadata": {},
   "outputs": [
    {
     "name": "stdout",
     "output_type": "stream",
     "text": [
      "2687/2687 [==============================] - 3s 1ms/step\n",
      "Inference time: 4.16 seconds\n"
     ]
    }
   ],
   "source": [
    "import time\n",
    "\n",
    "# Measure inference time\n",
    "start_time = time.time()\n",
    "pred = model.predict(X_test)\n",
    "end_time = time.time()\n",
    "\n",
    "inference_time = end_time - start_time\n",
    "print(\"Inference time: {:.2f} seconds\".format(inference_time))\n",
    "\n",
    "\n",
    "\n",
    "pred = np.argmax(pred,axis=1)\n",
    "y_test = Y_test.argmax(axis=1)"
   ]
  },
  {
   "cell_type": "code",
   "execution_count": 40,
   "id": "5e1ddd71",
   "metadata": {},
   "outputs": [
    {
     "data": {
      "text/plain": [
       "(85973,)"
      ]
     },
     "execution_count": 40,
     "metadata": {},
     "output_type": "execute_result"
    }
   ],
   "source": [
    "pred.shape\n",
    "y_test.shape"
   ]
  },
  {
   "cell_type": "code",
   "execution_count": 41,
   "id": "54d53683",
   "metadata": {},
   "outputs": [
    {
     "data": {
      "text/plain": [
       "array([[  364,     0,     0,     0,     0,     0,     0,     0],\n",
       "       [    0,    35,     0,     0,     0,     0,     0,     0],\n",
       "       [    0,     0, 30496,     1,     0,     0,     0,     1],\n",
       "       [    0,     0,     0, 13420,     0,     8,     0,     0],\n",
       "       [    0,     0,     0,     2, 17051,     0,     0,     0],\n",
       "       [    0,     0,     0,     3,     0, 24537,     0,     0],\n",
       "       [    0,     0,     0,     0,     0,     0,     0,     0],\n",
       "       [    0,     0,     0,     1,     0,     0,     0,    54]],\n",
       "      dtype=int64)"
      ]
     },
     "execution_count": 41,
     "metadata": {},
     "output_type": "execute_result"
    }
   ],
   "source": [
    "from sklearn.metrics import confusion_matrix, precision_score, recall_score\n",
    "import seaborn as sn\n",
    "\n",
    "confMat = confusion_matrix(y_test, pred)\n",
    "confMat"
   ]
  },
  {
   "cell_type": "code",
   "execution_count": null,
   "id": "3b422b68",
   "metadata": {},
   "outputs": [],
   "source": [
    "cm_df = pd.DataFrame(confMat)\n",
    "\n",
    "labels = ['DDoS','Probe','Normal','DoS','BFA','Web-Attack','BOTNET','U2R']\n",
    "\n",
    "plt.figure(figsize=(20,15))\n",
    "sn.set(font_scale=1.4)\n",
    "sn.heatmap(cm_df, annot=True, annot_kws={\"size\":12}, fmt='g', xticklabels=labels, yticklabels=labels, cmap='Blues')\n",
    "\n",
    "#sn.heatmap(cm_df, annot=True, annot_kws={\"size\":12}, fmt='g', xticklabels=labels, yticklabels=labels)\n",
    "plt.ylabel('Actual Class')\n",
    "plt.xlabel('Predicted Class')\n",
    "    \n",
    "plt.show() "
   ]
  },
  {
   "cell_type": "code",
   "execution_count": null,
   "id": "30c22f12",
   "metadata": {},
   "outputs": [],
   "source": []
  }
 ],
 "metadata": {
  "kernelspec": {
   "display_name": "Python 3 (ipykernel)",
   "language": "python",
   "name": "python3"
  },
  "language_info": {
   "codemirror_mode": {
    "name": "ipython",
    "version": 3
   },
   "file_extension": ".py",
   "mimetype": "text/x-python",
   "name": "python",
   "nbconvert_exporter": "python",
   "pygments_lexer": "ipython3",
   "version": "3.9.12"
  }
 },
 "nbformat": 4,
 "nbformat_minor": 5
}
