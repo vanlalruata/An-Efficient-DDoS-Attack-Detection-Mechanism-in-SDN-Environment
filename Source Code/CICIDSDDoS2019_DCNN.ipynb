{
 "cells": [
  {
   "cell_type": "code",
   "execution_count": 1,
   "id": "326ef5ca",
   "metadata": {},
   "outputs": [],
   "source": [
    "import numpy as np\n",
    "import pandas as pd\n",
    "\n",
    "import random\n",
    "\n",
    "import pickle # saving and loading trained model\n",
    "from os import path\n",
    "\n",
    "# importing required libraries for normalizing data\n",
    "from sklearn import preprocessing\n",
    "from sklearn.preprocessing import StandardScaler\n",
    "\n",
    "\n",
    "# importing library for plotting\n",
    "import matplotlib.pyplot as plt\n",
    "import seaborn as sns\n",
    "\n",
    "from sklearn import metrics\n",
    "from sklearn.metrics import accuracy_score # for calculating accuracy of model\n",
    "from sklearn.model_selection import train_test_split # for splitting the dataset for training and testing\n",
    "from sklearn.metrics import classification_report # for generating a classification report of model\n",
    "\n",
    "from sklearn.metrics import precision_score\n",
    "from sklearn.metrics import recall_score\n",
    "from sklearn.metrics import f1_score\n",
    "from sklearn.metrics import confusion_matrix\n",
    "\n",
    "from sklearn.metrics import roc_auc_score\n",
    "from sklearn.metrics import roc_curve, auc\n",
    "\n",
    "import tensorflow as tf\n",
    "from tensorflow import keras\n",
    "\n",
    "from keras.layers import Dense # importing dense layer\n",
    "from keras.models import Sequential #importing Sequential layer\n",
    "from keras.models import model_from_json # saving and loading trained model\n",
    "from keras.layers import Dropout, Activation\n",
    "\n",
    "from keras.layers import LSTM\n",
    "from keras.layers import Input\n",
    "from keras.models import Model\n",
    "\n",
    "from keras.utils.vis_utils import plot_model\n",
    "from sklearn.preprocessing import LabelEncoder, OneHotEncoder  "
   ]
  },
  {
   "cell_type": "code",
   "execution_count": 2,
   "id": "8e435c06",
   "metadata": {},
   "outputs": [
    {
     "name": "stdout",
     "output_type": "stream",
     "text": [
      "PhysicalDevice(name='/physical_device:GPU:0', device_type='GPU') \n",
      "\n"
     ]
    }
   ],
   "source": [
    "gpus = tf.config.experimental.list_physical_devices('GPU')\n",
    "if gpus:\n",
    "  for gpu in gpus:\n",
    "    tf.config.experimental.set_memory_growth(gpu, True)\n",
    "    print(gpu, \"\\n\")\n",
    "else:\n",
    "  print(\"No GPU device found\")"
   ]
  },
  {
   "cell_type": "code",
   "execution_count": 3,
   "id": "278c01c9",
   "metadata": {},
   "outputs": [
    {
     "name": "stdout",
     "output_type": "stream",
     "text": [
      "Sun Feb 26 09:15:26 2023       \n",
      "+-----------------------------------------------------------------------------+\n",
      "| NVIDIA-SMI 528.24       Driver Version: 528.24       CUDA Version: 12.0     |\n",
      "|-------------------------------+----------------------+----------------------+\n",
      "| GPU  Name            TCC/WDDM | Bus-Id        Disp.A | Volatile Uncorr. ECC |\n",
      "| Fan  Temp  Perf  Pwr:Usage/Cap|         Memory-Usage | GPU-Util  Compute M. |\n",
      "|                               |                      |               MIG M. |\n",
      "|===============================+======================+======================|\n",
      "|   0  NVIDIA GeForce ... WDDM  | 00000000:01:00.0  On |                  N/A |\n",
      "|  0%   43C    P8    11W / 200W |   7100MiB /  8192MiB |      8%      Default |\n",
      "|                               |                      |                  N/A |\n",
      "+-------------------------------+----------------------+----------------------+\n",
      "                                                                               \n",
      "+-----------------------------------------------------------------------------+\n",
      "| Processes:                                                                  |\n",
      "|  GPU   GI   CI        PID   Type   Process name                  GPU Memory |\n",
      "|        ID   ID                                                   Usage      |\n",
      "|=============================================================================|\n",
      "|    0   N/A  N/A      2540    C+G   ...me\\Application\\chrome.exe    N/A      |\n",
      "|    0   N/A  N/A      4700      C   ...uata\\anaconda3\\python.exe    N/A      |\n",
      "|    0   N/A  N/A      5624    C+G   ...587.50\\msedgewebview2.exe    N/A      |\n",
      "|    0   N/A  N/A      8468    C+G   ...587.50\\msedgewebview2.exe    N/A      |\n",
      "|    0   N/A  N/A     12684    C+G   ...n1h2txyewy\\SearchHost.exe    N/A      |\n",
      "|    0   N/A  N/A     13472    C+G   ...e\\root\\Office16\\EXCEL.EXE    N/A      |\n",
      "|    0   N/A  N/A     13604    C+G   ...perience\\NVIDIA Share.exe    N/A      |\n",
      "|    0   N/A  N/A     15176    C+G   ...3d8bbwe\\CalculatorApp.exe    N/A      |\n",
      "|    0   N/A  N/A     16060    C+G   ...v1g1gvanyjgm\\WhatsApp.exe    N/A      |\n",
      "|    0   N/A  N/A     19844    C+G   C:\\Windows\\explorer.exe         N/A      |\n",
      "|    0   N/A  N/A     21968    C+G   ...artMenuExperienceHost.exe    N/A      |\n",
      "|    0   N/A  N/A     28060      C   ...uata\\anaconda3\\python.exe    N/A      |\n",
      "+-----------------------------------------------------------------------------+\n"
     ]
    }
   ],
   "source": [
    "!nvidia-smi"
   ]
  },
  {
   "cell_type": "code",
   "execution_count": 4,
   "id": "2cae264c",
   "metadata": {},
   "outputs": [
    {
     "name": "stdout",
     "output_type": "stream",
     "text": [
      "Read Completed for  H:/Datasets/CIC-DDoS2019/03-11\\LDAP.csv\n",
      "Read Completed for  H:/Datasets/CIC-DDoS2019/03-11\\MSSQL.csv\n",
      "Read Completed for  H:/Datasets/CIC-DDoS2019/03-11\\NetBIOS.csv\n",
      "Read Completed for  H:/Datasets/CIC-DDoS2019/03-11\\Portmap.csv\n",
      "Read Completed for  H:/Datasets/CIC-DDoS2019/03-11\\Syn.csv\n",
      "Read Completed for  H:/Datasets/CIC-DDoS2019/03-11\\UDP.csv\n",
      "Read Completed for  H:/Datasets/CIC-DDoS2019/03-11\\UDPLag.csv\n",
      "Read Completed for  H:/Datasets/CIC-DDoS2019/01-12\\DrDoS_DNS.csv\n",
      "Read Completed for  H:/Datasets/CIC-DDoS2019/01-12\\DrDoS_LDAP.csv\n",
      "Read Completed for  H:/Datasets/CIC-DDoS2019/01-12\\DrDoS_MSSQL.csv\n",
      "Read Completed for  H:/Datasets/CIC-DDoS2019/01-12\\DrDoS_NetBIOS.csv\n",
      "Read Completed for  H:/Datasets/CIC-DDoS2019/01-12\\DrDoS_NTP.csv\n",
      "Read Completed for  H:/Datasets/CIC-DDoS2019/01-12\\DrDoS_SNMP.csv\n",
      "Read Completed for  H:/Datasets/CIC-DDoS2019/01-12\\DrDoS_SSDP.csv\n",
      "Read Completed for  H:/Datasets/CIC-DDoS2019/01-12\\DrDoS_UDP.csv\n",
      "Read Completed for  H:/Datasets/CIC-DDoS2019/01-12\\Syn.csv\n",
      "Read Completed for  H:/Datasets/CIC-DDoS2019/01-12\\TFTP.csv\n",
      "Read Completed for  H:/Datasets/CIC-DDoS2019/01-12\\UDPLag.csv\n",
      "Finished Reading all data...\n"
     ]
    }
   ],
   "source": [
    "#Loading Secondary Data\n",
    "\n",
    "import glob\n",
    "\n",
    "path = r'H:/Datasets/CIC-DDoS2019/03-11' # use your path\n",
    "all_files = glob.glob(path + \"/*.csv\")\n",
    "\n",
    "li = []\n",
    "\n",
    "p = 0.20  # 20% of the lines\n",
    "\n",
    "#For First Day Data\n",
    "for filename in all_files:\n",
    "    df = pd.read_csv(filename, low_memory=False)\n",
    "    #df = pd.read_csv(filename, skiprows=lambda i: i>0 and random.random() > p, low_memory=False)\n",
    "    li.append(df)\n",
    "    print(\"Read Completed for \", filename)\n",
    "    \n",
    "#For Second Day Data\n",
    "path = r'H:/Datasets/CIC-DDoS2019/01-12' # use your path\n",
    "all_files = glob.glob(path + \"/*.csv\")\n",
    "\n",
    "for filename in all_files:\n",
    "    df = pd.read_csv(filename, low_memory=False)\n",
    "    li.append(df)\n",
    "    print(\"Read Completed for \", filename)\n",
    "\n",
    "\n",
    "\n",
    "df = pd.concat(li, axis=0, ignore_index=True)\n",
    "\n",
    "print(\"Finished Reading all data...\")"
   ]
  },
  {
   "cell_type": "code",
   "execution_count": 5,
   "id": "e92ec02e",
   "metadata": {},
   "outputs": [
    {
     "name": "stdout",
     "output_type": "stream",
     "text": [
      "(70427637, 88)\n"
     ]
    }
   ],
   "source": [
    "print(df.shape)"
   ]
  },
  {
   "cell_type": "code",
   "execution_count": 6,
   "id": "af287ed2",
   "metadata": {},
   "outputs": [
    {
     "name": "stdout",
     "output_type": "stream",
     "text": [
      "columns:  69\n"
     ]
    },
    {
     "data": {
      "text/plain": [
       "Index([' Protocol', ' Flow Duration', ' Total Fwd Packets',\n",
       "       ' Total Backward Packets', 'Total Length of Fwd Packets',\n",
       "       ' Total Length of Bwd Packets', ' Fwd Packet Length Max',\n",
       "       ' Fwd Packet Length Min', ' Fwd Packet Length Mean',\n",
       "       ' Fwd Packet Length Std', 'Bwd Packet Length Max',\n",
       "       ' Bwd Packet Length Min', ' Bwd Packet Length Mean',\n",
       "       ' Bwd Packet Length Std', 'Flow Bytes/s', ' Flow Packets/s',\n",
       "       ' Flow IAT Mean', ' Flow IAT Std', ' Flow IAT Max', ' Flow IAT Min',\n",
       "       'Fwd IAT Total', ' Fwd IAT Mean', ' Fwd IAT Std', ' Fwd IAT Max',\n",
       "       ' Fwd IAT Min', 'Bwd IAT Total', ' Bwd IAT Mean', ' Bwd IAT Std',\n",
       "       ' Bwd IAT Max', ' Bwd IAT Min', 'Fwd PSH Flags', ' Bwd PSH Flags',\n",
       "       ' Fwd Header Length', ' Bwd Header Length', 'Fwd Packets/s',\n",
       "       ' Bwd Packets/s', ' Min Packet Length', ' Max Packet Length',\n",
       "       ' Packet Length Mean', ' Packet Length Std', ' Packet Length Variance',\n",
       "       ' SYN Flag Count', ' RST Flag Count', ' ACK Flag Count',\n",
       "       ' URG Flag Count', ' CWE Flag Count', ' Down/Up Ratio',\n",
       "       ' Average Packet Size', ' Avg Fwd Segment Size',\n",
       "       ' Avg Bwd Segment Size', ' Fwd Header Length.1', 'Subflow Fwd Packets',\n",
       "       ' Subflow Fwd Bytes', ' Subflow Bwd Packets', ' Subflow Bwd Bytes',\n",
       "       'Init_Win_bytes_forward', ' Init_Win_bytes_backward',\n",
       "       ' act_data_pkt_fwd', ' min_seg_size_forward', 'Active Mean',\n",
       "       ' Active Std', ' Active Max', ' Active Min', 'Idle Mean', ' Idle Std',\n",
       "       ' Idle Max', ' Idle Min', ' Inbound', ' Label'],\n",
       "      dtype='object')"
      ]
     },
     "execution_count": 6,
     "metadata": {},
     "output_type": "execute_result"
    }
   ],
   "source": [
    "df=df.drop('Unnamed: 0',axis=1)\n",
    "\n",
    "overfitting_columns = [' Source IP', ' Destination IP', ' Source Port', ' Destination Port', ' Timestamp', 'SimillarHTTP', 'Flow ID', ' Fwd URG Flags', ' Bwd URG Flags', 'FIN Flag Count', ' PSH Flag Count', ' ECE Flag Count', 'Fwd Avg Bytes/Bulk', ' Fwd Avg Packets/Bulk', ' Fwd Avg Bulk Rate', ' Bwd Avg Bytes/Bulk', ' Bwd Avg Packets/Bulk', 'Bwd Avg Bulk Rate']\n",
    "df.drop(labels=overfitting_columns, axis='columns', inplace=True)\n",
    "\n",
    "print(\"columns: \", len(df.columns))\n",
    "df.columns"
   ]
  },
  {
   "cell_type": "code",
   "execution_count": 7,
   "id": "7002decc",
   "metadata": {},
   "outputs": [
    {
     "data": {
      "text/html": [
       "<div>\n",
       "<style scoped>\n",
       "    .dataframe tbody tr th:only-of-type {\n",
       "        vertical-align: middle;\n",
       "    }\n",
       "\n",
       "    .dataframe tbody tr th {\n",
       "        vertical-align: top;\n",
       "    }\n",
       "\n",
       "    .dataframe thead th {\n",
       "        text-align: right;\n",
       "    }\n",
       "</style>\n",
       "<table border=\"1\" class=\"dataframe\">\n",
       "  <thead>\n",
       "    <tr style=\"text-align: right;\">\n",
       "      <th></th>\n",
       "      <th>Protocol</th>\n",
       "      <th>Flow Duration</th>\n",
       "      <th>Total Fwd Packets</th>\n",
       "      <th>Total Backward Packets</th>\n",
       "      <th>Total Length of Fwd Packets</th>\n",
       "      <th>Total Length of Bwd Packets</th>\n",
       "      <th>Fwd Packet Length Max</th>\n",
       "      <th>Fwd Packet Length Min</th>\n",
       "      <th>Fwd Packet Length Mean</th>\n",
       "      <th>Fwd Packet Length Std</th>\n",
       "      <th>...</th>\n",
       "      <th>Active Mean</th>\n",
       "      <th>Active Std</th>\n",
       "      <th>Active Max</th>\n",
       "      <th>Active Min</th>\n",
       "      <th>Idle Mean</th>\n",
       "      <th>Idle Std</th>\n",
       "      <th>Idle Max</th>\n",
       "      <th>Idle Min</th>\n",
       "      <th>Inbound</th>\n",
       "      <th>Label</th>\n",
       "    </tr>\n",
       "  </thead>\n",
       "  <tbody>\n",
       "    <tr>\n",
       "      <th>0</th>\n",
       "      <td>17</td>\n",
       "      <td>1</td>\n",
       "      <td>2</td>\n",
       "      <td>0</td>\n",
       "      <td>422.0</td>\n",
       "      <td>0.0</td>\n",
       "      <td>211.0</td>\n",
       "      <td>211.0</td>\n",
       "      <td>211.0</td>\n",
       "      <td>0.0</td>\n",
       "      <td>...</td>\n",
       "      <td>0.0</td>\n",
       "      <td>0.0</td>\n",
       "      <td>0.0</td>\n",
       "      <td>0.0</td>\n",
       "      <td>0.0</td>\n",
       "      <td>0.0</td>\n",
       "      <td>0.0</td>\n",
       "      <td>0.0</td>\n",
       "      <td>1</td>\n",
       "      <td>NetBIOS</td>\n",
       "    </tr>\n",
       "    <tr>\n",
       "      <th>1</th>\n",
       "      <td>17</td>\n",
       "      <td>48</td>\n",
       "      <td>2</td>\n",
       "      <td>0</td>\n",
       "      <td>530.0</td>\n",
       "      <td>0.0</td>\n",
       "      <td>265.0</td>\n",
       "      <td>265.0</td>\n",
       "      <td>265.0</td>\n",
       "      <td>0.0</td>\n",
       "      <td>...</td>\n",
       "      <td>0.0</td>\n",
       "      <td>0.0</td>\n",
       "      <td>0.0</td>\n",
       "      <td>0.0</td>\n",
       "      <td>0.0</td>\n",
       "      <td>0.0</td>\n",
       "      <td>0.0</td>\n",
       "      <td>0.0</td>\n",
       "      <td>1</td>\n",
       "      <td>NetBIOS</td>\n",
       "    </tr>\n",
       "    <tr>\n",
       "      <th>2</th>\n",
       "      <td>17</td>\n",
       "      <td>1</td>\n",
       "      <td>2</td>\n",
       "      <td>0</td>\n",
       "      <td>458.0</td>\n",
       "      <td>0.0</td>\n",
       "      <td>229.0</td>\n",
       "      <td>229.0</td>\n",
       "      <td>229.0</td>\n",
       "      <td>0.0</td>\n",
       "      <td>...</td>\n",
       "      <td>0.0</td>\n",
       "      <td>0.0</td>\n",
       "      <td>0.0</td>\n",
       "      <td>0.0</td>\n",
       "      <td>0.0</td>\n",
       "      <td>0.0</td>\n",
       "      <td>0.0</td>\n",
       "      <td>0.0</td>\n",
       "      <td>1</td>\n",
       "      <td>NetBIOS</td>\n",
       "    </tr>\n",
       "    <tr>\n",
       "      <th>3</th>\n",
       "      <td>17</td>\n",
       "      <td>1</td>\n",
       "      <td>2</td>\n",
       "      <td>0</td>\n",
       "      <td>458.0</td>\n",
       "      <td>0.0</td>\n",
       "      <td>229.0</td>\n",
       "      <td>229.0</td>\n",
       "      <td>229.0</td>\n",
       "      <td>0.0</td>\n",
       "      <td>...</td>\n",
       "      <td>0.0</td>\n",
       "      <td>0.0</td>\n",
       "      <td>0.0</td>\n",
       "      <td>0.0</td>\n",
       "      <td>0.0</td>\n",
       "      <td>0.0</td>\n",
       "      <td>0.0</td>\n",
       "      <td>0.0</td>\n",
       "      <td>1</td>\n",
       "      <td>NetBIOS</td>\n",
       "    </tr>\n",
       "    <tr>\n",
       "      <th>4</th>\n",
       "      <td>17</td>\n",
       "      <td>1</td>\n",
       "      <td>2</td>\n",
       "      <td>0</td>\n",
       "      <td>458.0</td>\n",
       "      <td>0.0</td>\n",
       "      <td>229.0</td>\n",
       "      <td>229.0</td>\n",
       "      <td>229.0</td>\n",
       "      <td>0.0</td>\n",
       "      <td>...</td>\n",
       "      <td>0.0</td>\n",
       "      <td>0.0</td>\n",
       "      <td>0.0</td>\n",
       "      <td>0.0</td>\n",
       "      <td>0.0</td>\n",
       "      <td>0.0</td>\n",
       "      <td>0.0</td>\n",
       "      <td>0.0</td>\n",
       "      <td>1</td>\n",
       "      <td>NetBIOS</td>\n",
       "    </tr>\n",
       "  </tbody>\n",
       "</table>\n",
       "<p>5 rows × 69 columns</p>\n",
       "</div>"
      ],
      "text/plain": [
       "    Protocol   Flow Duration   Total Fwd Packets   Total Backward Packets  \\\n",
       "0         17               1                   2                        0   \n",
       "1         17              48                   2                        0   \n",
       "2         17               1                   2                        0   \n",
       "3         17               1                   2                        0   \n",
       "4         17               1                   2                        0   \n",
       "\n",
       "   Total Length of Fwd Packets   Total Length of Bwd Packets  \\\n",
       "0                        422.0                           0.0   \n",
       "1                        530.0                           0.0   \n",
       "2                        458.0                           0.0   \n",
       "3                        458.0                           0.0   \n",
       "4                        458.0                           0.0   \n",
       "\n",
       "    Fwd Packet Length Max   Fwd Packet Length Min   Fwd Packet Length Mean  \\\n",
       "0                   211.0                   211.0                    211.0   \n",
       "1                   265.0                   265.0                    265.0   \n",
       "2                   229.0                   229.0                    229.0   \n",
       "3                   229.0                   229.0                    229.0   \n",
       "4                   229.0                   229.0                    229.0   \n",
       "\n",
       "    Fwd Packet Length Std  ...  Active Mean   Active Std   Active Max  \\\n",
       "0                     0.0  ...          0.0          0.0          0.0   \n",
       "1                     0.0  ...          0.0          0.0          0.0   \n",
       "2                     0.0  ...          0.0          0.0          0.0   \n",
       "3                     0.0  ...          0.0          0.0          0.0   \n",
       "4                     0.0  ...          0.0          0.0          0.0   \n",
       "\n",
       "    Active Min  Idle Mean   Idle Std   Idle Max   Idle Min   Inbound    Label  \n",
       "0          0.0        0.0        0.0        0.0        0.0         1  NetBIOS  \n",
       "1          0.0        0.0        0.0        0.0        0.0         1  NetBIOS  \n",
       "2          0.0        0.0        0.0        0.0        0.0         1  NetBIOS  \n",
       "3          0.0        0.0        0.0        0.0        0.0         1  NetBIOS  \n",
       "4          0.0        0.0        0.0        0.0        0.0         1  NetBIOS  \n",
       "\n",
       "[5 rows x 69 columns]"
      ]
     },
     "execution_count": 7,
     "metadata": {},
     "output_type": "execute_result"
    }
   ],
   "source": [
    "df.head()"
   ]
  },
  {
   "cell_type": "code",
   "execution_count": 8,
   "id": "04cb2c3c",
   "metadata": {},
   "outputs": [
    {
     "data": {
      "text/plain": [
       "TFTP             20082580\n",
       "Syn               6473789\n",
       "MSSQL             5787453\n",
       "DrDoS_SNMP        5159870\n",
       "DrDoS_DNS         5071011\n",
       "DrDoS_MSSQL       4522492\n",
       "DrDoS_NetBIOS     4093279\n",
       "UDP               3867155\n",
       "NetBIOS           3657497\n",
       "DrDoS_UDP         3134645\n",
       "DrDoS_SSDP        2610611\n",
       "DrDoS_LDAP        2179930\n",
       "LDAP              1915122\n",
       "DrDoS_NTP         1202642\n",
       "UDP-lag            366461\n",
       "Portmap            186960\n",
       "BENIGN             113828\n",
       "UDPLag               1873\n",
       "WebDDoS               439\n",
       "Name: Label, dtype: int64"
      ]
     },
     "execution_count": 8,
     "metadata": {},
     "output_type": "execute_result"
    }
   ],
   "source": [
    "df = df.rename(columns={' Label': 'Label'})\n",
    "df[\"Label\"].value_counts()"
   ]
  },
  {
   "cell_type": "code",
   "execution_count": 9,
   "id": "2f286345",
   "metadata": {},
   "outputs": [],
   "source": [
    "from scipy.stats import zscore\n",
    "\n",
    "def expand_categories(values):\n",
    "    result = []\n",
    "    s = values.value_counts()\n",
    "    t = float(len(values))\n",
    "    for v in s.index:\n",
    "        result.append(\"{}:{}%\".format(v,round(100*(s[v]/t),2)))\n",
    "    return \"[{}]\".format(\",\".join(result))\n",
    "        \n",
    "def analyze(df):\n",
    "    print()\n",
    "    cols = df.columns.values\n",
    "    total = float(len(df))\n",
    "\n",
    "    print(\"{} rows\".format(int(total)))\n",
    "    for col in cols:\n",
    "        uniques = df[col].unique()\n",
    "        unique_count = len(uniques)\n",
    "        if unique_count>100:\n",
    "            print(\"** {}:{} ({}%)\".format(col,unique_count,int(((unique_count)/total)*100)))\n",
    "        else:\n",
    "            print(\"** {}:{}\".format(col,expand_categories(df[col])))\n",
    "            expand_categories(df[col])"
   ]
  },
  {
   "cell_type": "code",
   "execution_count": 10,
   "id": "47108cc3",
   "metadata": {},
   "outputs": [
    {
     "name": "stdout",
     "output_type": "stream",
     "text": [
      "\n",
      "70427637 rows\n",
      "**  Protocol:[17:90.02%,6:9.98%,0:0.01%]\n",
      "**  Flow Duration:1559518 (2%)\n",
      "**  Total Fwd Packets:853 (0%)\n",
      "**  Total Backward Packets:464 (0%)\n",
      "** Total Length of Fwd Packets:6880 (0%)\n",
      "**  Total Length of Bwd Packets:6359 (0%)\n",
      "**  Fwd Packet Length Max:2593 (0%)\n",
      "**  Fwd Packet Length Min:1494 (0%)\n",
      "**  Fwd Packet Length Mean:13541 (0%)\n",
      "**  Fwd Packet Length Std:14454 (0%)\n",
      "** Bwd Packet Length Max:1331 (0%)\n",
      "**  Bwd Packet Length Min:244 (0%)\n",
      "**  Bwd Packet Length Mean:9866 (0%)\n",
      "**  Bwd Packet Length Std:10295 (0%)\n",
      "** Flow Bytes/s:2025897 (2%)\n",
      "**  Flow Packets/s:1875617 (2%)\n",
      "**  Flow IAT Mean:2146803 (3%)\n",
      "**  Flow IAT Std:6524954 (9%)\n",
      "**  Flow IAT Max:1169346 (1%)\n",
      "**  Flow IAT Min:4489 (0%)\n",
      "** Fwd IAT Total:1549706 (2%)\n",
      "**  Fwd IAT Mean:2124296 (3%)\n",
      "**  Fwd IAT Std:6495841 (9%)\n",
      "**  Fwd IAT Max:1154408 (1%)\n",
      "**  Fwd IAT Min:1273 (0%)\n",
      "** Bwd IAT Total:317253 (0%)\n",
      "**  Bwd IAT Mean:319797 (0%)\n",
      "**  Bwd IAT Std:321940 (0%)\n",
      "**  Bwd IAT Max:313590 (0%)\n",
      "**  Bwd IAT Min:169 (0%)\n",
      "** Fwd PSH Flags:[0:99.97%,1:0.03%]\n",
      "**  Bwd PSH Flags:[0:100.0%]\n",
      "**  Fwd Header Length:12959 (0%)\n",
      "**  Bwd Header Length:1106 (0%)\n",
      "** Fwd Packets/s:1866465 (2%)\n",
      "**  Bwd Packets/s:528941 (0%)\n",
      "**  Min Packet Length:1465 (0%)\n",
      "**  Max Packet Length:2601 (0%)\n",
      "**  Packet Length Mean:18492 (0%)\n",
      "**  Packet Length Std:17910 (0%)\n",
      "**  Packet Length Variance:18424 (0%)\n",
      "**  SYN Flag Count:[0:100.0%,1:0.0%]\n",
      "**  RST Flag Count:[0:99.97%,1:0.03%]\n",
      "**  ACK Flag Count:[0:90.12%,1:9.88%]\n",
      "**  URG Flag Count:[0:99.91%,1:0.09%]\n",
      "**  CWE Flag Count:[0:99.95%,1:0.05%]\n",
      "**  Down/Up Ratio:[0.0:97.36%,1.0:2.6%,2.0:0.02%,3.0:0.01%,4.0:0.0%,5.0:0.0%,6.0:0.0%,7.0:0.0%,8.0:0.0%,9.0:0.0%,10.0:0.0%,12.0:0.0%,11.0:0.0%,14.0:0.0%,15.0:0.0%,13.0:0.0%,23.0:0.0%]\n",
      "**  Average Packet Size:18304 (0%)\n",
      "**  Avg Fwd Segment Size:11976 (0%)\n",
      "**  Avg Bwd Segment Size:9322 (0%)\n",
      "**  Fwd Header Length.1:12959 (0%)\n",
      "** Subflow Fwd Packets:853 (0%)\n",
      "**  Subflow Fwd Bytes:6880 (0%)\n",
      "**  Subflow Bwd Packets:464 (0%)\n",
      "**  Subflow Bwd Bytes:6359 (0%)\n",
      "** Init_Win_bytes_forward:2124 (0%)\n",
      "**  Init_Win_bytes_backward:1726 (0%)\n",
      "**  act_data_pkt_fwd:316 (0%)\n",
      "**  min_seg_size_forward:1428 (0%)\n",
      "** Active Mean:102648 (0%)\n",
      "**  Active Std:145998 (0%)\n",
      "**  Active Max:96880 (0%)\n",
      "**  Active Min:14699 (0%)\n",
      "** Idle Mean:699301 (0%)\n",
      "**  Idle Std:628013 (0%)\n",
      "**  Idle Max:682300 (0%)\n",
      "**  Idle Min:661816 (0%)\n",
      "**  Inbound:[1:99.83%,0:0.17%]\n",
      "** Label:[TFTP:28.52%,Syn:9.19%,MSSQL:8.22%,DrDoS_SNMP:7.33%,DrDoS_DNS:7.2%,DrDoS_MSSQL:6.42%,DrDoS_NetBIOS:5.81%,UDP:5.49%,NetBIOS:5.19%,DrDoS_UDP:4.45%,DrDoS_SSDP:3.71%,DrDoS_LDAP:3.1%,LDAP:2.72%,DrDoS_NTP:1.71%,UDP-lag:0.52%,Portmap:0.27%,BENIGN:0.16%,UDPLag:0.0%,WebDDoS:0.0%]\n"
     ]
    }
   ],
   "source": [
    "analyze(df)"
   ]
  },
  {
   "cell_type": "code",
   "execution_count": 11,
   "id": "8b3b244d",
   "metadata": {},
   "outputs": [
    {
     "data": {
      "text/plain": [
       "<Figure size 1440x1440 with 0 Axes>"
      ]
     },
     "metadata": {},
     "output_type": "display_data"
    },
    {
     "data": {
      "image/png": "[encoded data removed]",
      "text/plain": [
       "<Figure size 1440x1440 with 1 Axes>"
      ]
     },
     "metadata": {
      "needs_background": "light"
     },
     "output_type": "display_data"
    }
   ],
   "source": [
    "from matplotlib.pyplot import *\n",
    "\n",
    "plt.figure(figsize=(20,20))\n",
    "\n",
    "fig, ax = plt.subplots(figsize=(20,20))\n",
    "\n",
    "class_distribution = df['Label'].value_counts()\n",
    "class_distribution.plot(kind='bar')\n",
    "plt.xlabel('Class')\n",
    "plt.ylabel('Data points per Class')\n",
    "plt.title('Distribution of CICDDoS2019 Training Data')\n",
    "plt.grid()\n",
    "plt.show()\n",
    "\n",
    "fig.savefig('CIC-DDoS2019_Data_Distribution.pdf') "
   ]
  },
  {
   "cell_type": "code",
   "execution_count": 12,
   "id": "082340ab",
   "metadata": {},
   "outputs": [
    {
     "name": "stdout",
     "output_type": "stream",
     "text": [
      "Number of data points in class TFTP : 20082580 ( 28.515 %)\n",
      "Number of data points in class Syn : 6473789 ( 9.192 %)\n",
      "Number of data points in class MSSQL : 5787453 ( 8.218 %)\n",
      "Number of data points in class DrDoS_SNMP : 5159870 ( 7.326 %)\n",
      "Number of data points in class DrDoS_DNS : 5071011 ( 7.2 %)\n",
      "Number of data points in class DrDoS_MSSQL : 4522492 ( 6.421 %)\n",
      "Number of data points in class DrDoS_NetBIOS : 4093279 ( 5.812 %)\n",
      "Number of data points in class UDP : 3867155 ( 5.491 %)\n",
      "Number of data points in class NetBIOS : 3657497 ( 5.193 %)\n",
      "Number of data points in class DrDoS_UDP : 3134645 ( 4.451 %)\n",
      "Number of data points in class DrDoS_SSDP : 2610611 ( 3.707 %)\n",
      "Number of data points in class DrDoS_LDAP : 2179930 ( 3.095 %)\n",
      "Number of data points in class LDAP : 1915122 ( 2.719 %)\n",
      "Number of data points in class DrDoS_NTP : 1202642 ( 1.708 %)\n",
      "Number of data points in class UDP-lag : 366461 ( 0.52 %)\n",
      "Number of data points in class Portmap : 186960 ( 0.265 %)\n",
      "Number of data points in class BENIGN : 113828 ( 0.162 %)\n",
      "Number of data points in class UDPLag : 1873 ( 0.003 %)\n",
      "Number of data points in class WebDDoS : 439 ( 0.001 %)\n"
     ]
    }
   ],
   "source": [
    "# Before Cleaning Data set for Duplicate\n",
    "sorted_ds = np.argsort(-class_distribution.values)\n",
    "for i in sorted_ds:\n",
    "    print('Number of data points in class', class_distribution.index[i],':', class_distribution.values[i], \n",
    "          '(', np.round((class_distribution.values[i]/df.shape[0]*100), 3), '%)')"
   ]
  },
  {
   "cell_type": "code",
   "execution_count": 13,
   "id": "9908afa2",
   "metadata": {},
   "outputs": [
    {
     "name": "stdout",
     "output_type": "stream",
     "text": [
      "Null values in dataset are 249152\n",
      "========================================\n",
      "Read 10457147 rows.\n"
     ]
    }
   ],
   "source": [
    "# Data Cleaning\n",
    "\n",
    "# Checking for NULL values\n",
    "print('Null values in dataset are',len(df[df.isnull().any(1)]))\n",
    "print('='*40)\n",
    "\n",
    "# Checkng for DUPLICATE values\n",
    "df.drop_duplicates(keep='first', inplace = True)\n",
    "\n",
    "# For now, just drop NA's (rows with missing values)\n",
    "df.dropna(inplace=True,axis=1) \n",
    "\n",
    "# stored the data into a pickle file so we can load through\n",
    "# df.to_pickle('df.pkl')\n",
    "\n",
    "print(\"Read {} rows.\".format(len(df)))"
   ]
  },
  {
   "cell_type": "code",
   "execution_count": 14,
   "id": "3c0dd3cc",
   "metadata": {},
   "outputs": [
    {
     "data": {
      "image/png": "[encoded data removed]",
      "text/plain": [
       "<Figure size 1080x504 with 1 Axes>"
      ]
     },
     "metadata": {
      "needs_background": "light"
     },
     "output_type": "display_data"
    }
   ],
   "source": [
    "from matplotlib.pyplot import *\n",
    "\n",
    "plt.figure(figsize=(15,7))\n",
    "class_distribution = df['Label'].value_counts()\n",
    "class_distribution.plot(kind='bar')\n",
    "plt.xlabel('Class')\n",
    "plt.ylabel('Data points per Class')\n",
    "plt.title('Distribution of Cleaned CICDDoS2019 Training Data')\n",
    "plt.grid()\n",
    "plt.show()"
   ]
  },
  {
   "cell_type": "code",
   "execution_count": 15,
   "id": "f5fc0d4c",
   "metadata": {},
   "outputs": [
    {
     "name": "stdout",
     "output_type": "stream",
     "text": [
      "Number of data points in class TFTP : 4396777 ( 42.046 %)\n",
      "Number of data points in class UDP : 1327526 ( 12.695 %)\n",
      "Number of data points in class DrDoS_NTP : 1112904 ( 10.643 %)\n",
      "Number of data points in class DrDoS_UDP : 1075330 ( 10.283 %)\n",
      "Number of data points in class DrDoS_SSDP : 891221 ( 8.523 %)\n",
      "Number of data points in class Syn : 681343 ( 6.516 %)\n",
      "Number of data points in class MSSQL : 272252 ( 2.604 %)\n",
      "Number of data points in class DrDoS_MSSQL : 207003 ( 1.98 %)\n",
      "Number of data points in class DrDoS_SNMP : 114185 ( 1.092 %)\n",
      "Number of data points in class DrDoS_DNS : 113259 ( 1.083 %)\n",
      "Number of data points in class BENIGN : 95881 ( 0.917 %)\n",
      "Number of data points in class UDP-lag : 89056 ( 0.852 %)\n",
      "Number of data points in class DrDoS_LDAP : 30099 ( 0.288 %)\n",
      "Number of data points in class DrDoS_NetBIOS : 19490 ( 0.186 %)\n",
      "Number of data points in class LDAP : 17894 ( 0.171 %)\n",
      "Number of data points in class NetBIOS : 10420 ( 0.1 %)\n",
      "Number of data points in class Portmap : 1638 ( 0.016 %)\n",
      "Number of data points in class UDPLag : 455 ( 0.004 %)\n",
      "Number of data points in class WebDDoS : 414 ( 0.004 %)\n"
     ]
    }
   ],
   "source": [
    "# After Cleaning Data set for Duplicate\n",
    "sorted_ds = np.argsort(-class_distribution.values)\n",
    "for i in sorted_ds:\n",
    "    print('Number of data points in class', class_distribution.index[i],':', class_distribution.values[i], \n",
    "          '(', np.round((class_distribution.values[i]/df.shape[0]*100), 3), '%)')"
   ]
  },
  {
   "cell_type": "code",
   "execution_count": 16,
   "id": "9a920cc1",
   "metadata": {},
   "outputs": [],
   "source": [
    "data = df.iloc[:,1:-1]"
   ]
  },
  {
   "cell_type": "code",
   "execution_count": 17,
   "id": "fc9bef2a",
   "metadata": {},
   "outputs": [],
   "source": [
    "label_encoder = LabelEncoder()\n",
    "data.iloc[:,0] = label_encoder.fit_transform(data.iloc[:,0]).astype('float64')"
   ]
  },
  {
   "cell_type": "code",
   "execution_count": 18,
   "id": "e03056c3",
   "metadata": {},
   "outputs": [],
   "source": [
    "corr = data.corr()"
   ]
  },
  {
   "cell_type": "code",
   "execution_count": 19,
   "id": "2f63778b",
   "metadata": {},
   "outputs": [
    {
     "data": {
      "text/plain": [
       "<AxesSubplot:>"
      ]
     },
     "execution_count": 19,
     "metadata": {},
     "output_type": "execute_result"
    },
    {
     "data": {
      "image/png": "[encoded data removed]",
      "text/plain": [
       "<Figure size 1080x720 with 2 Axes>"
      ]
     },
     "metadata": {},
     "output_type": "display_data"
    }
   ],
   "source": [
    "import seaborn as sns\n",
    "\n",
    "sns.set(rc = {'figure.figsize':(15,10)})\n",
    "sns.heatmap(corr)"
   ]
  },
  {
   "cell_type": "code",
   "execution_count": 20,
   "id": "00a65bf3",
   "metadata": {},
   "outputs": [
    {
     "name": "stdout",
     "output_type": "stream",
     "text": [
      "Index([' Protocol', ' Flow Duration', ' Total Fwd Packets',\n",
      "       ' Total Backward Packets', 'Total Length of Fwd Packets',\n",
      "       ' Total Length of Bwd Packets', ' Fwd Packet Length Max',\n",
      "       ' Fwd Packet Length Min', ' Fwd Packet Length Mean',\n",
      "       ' Fwd Packet Length Std', 'Bwd Packet Length Max',\n",
      "       ' Bwd Packet Length Min', ' Bwd Packet Length Mean',\n",
      "       ' Bwd Packet Length Std', ' Flow Packets/s', ' Flow IAT Mean',\n",
      "       ' Flow IAT Std', ' Flow IAT Max', ' Flow IAT Min', 'Fwd IAT Total',\n",
      "       ' Fwd IAT Mean', ' Fwd IAT Std', ' Fwd IAT Max', ' Fwd IAT Min',\n",
      "       'Bwd IAT Total', ' Bwd IAT Mean', ' Bwd IAT Std', ' Bwd IAT Max',\n",
      "       ' Bwd IAT Min', 'Fwd PSH Flags', ' Bwd PSH Flags', ' Fwd Header Length',\n",
      "       ' Bwd Header Length', 'Fwd Packets/s', ' Bwd Packets/s',\n",
      "       ' Min Packet Length', ' Max Packet Length', ' Packet Length Mean',\n",
      "       ' Packet Length Std', ' Packet Length Variance', ' SYN Flag Count',\n",
      "       ' RST Flag Count', ' ACK Flag Count', ' URG Flag Count',\n",
      "       ' CWE Flag Count', ' Down/Up Ratio', ' Average Packet Size',\n",
      "       ' Avg Fwd Segment Size', ' Avg Bwd Segment Size',\n",
      "       ' Fwd Header Length.1', 'Subflow Fwd Packets', ' Subflow Fwd Bytes',\n",
      "       ' Subflow Bwd Packets', ' Subflow Bwd Bytes', 'Init_Win_bytes_forward',\n",
      "       ' Init_Win_bytes_backward', ' act_data_pkt_fwd',\n",
      "       ' min_seg_size_forward', 'Active Mean', ' Active Std', ' Active Max',\n",
      "       ' Active Min', 'Idle Mean', ' Idle Std', ' Idle Max', ' Idle Min',\n",
      "       ' Inbound', 'Label'],\n",
      "      dtype='object')\n"
     ]
    }
   ],
   "source": [
    "print(df.columns)"
   ]
  },
  {
   "cell_type": "code",
   "execution_count": 21,
   "id": "3aefb7b3",
   "metadata": {},
   "outputs": [
    {
     "data": {
      "text/plain": [
       "14    4396777\n",
       "15    1327526\n",
       "4     1112904\n",
       "8     1075330\n",
       "7      891221\n",
       "13     681343\n",
       "10     272252\n",
       "3      207003\n",
       "6      114185\n",
       "1      113259\n",
       "0       95881\n",
       "16      89056\n",
       "2       30099\n",
       "5       19490\n",
       "9       17894\n",
       "11      10420\n",
       "12       1638\n",
       "17        455\n",
       "18        414\n",
       "Name: Label, dtype: int64"
      ]
     },
     "execution_count": 21,
     "metadata": {},
     "output_type": "execute_result"
    }
   ],
   "source": [
    "#drop na values and reset index\n",
    "data_clean = df.dropna().reset_index()\n",
    "\n",
    "# label encoding\n",
    "labelencoder = LabelEncoder()\n",
    "data_clean['Label'] = labelencoder.fit_transform(data_clean['Label'])\n",
    "\n",
    "data_clean['Label'].value_counts()"
   ]
  },
  {
   "cell_type": "code",
   "execution_count": 22,
   "id": "5e5632fe",
   "metadata": {},
   "outputs": [
    {
     "name": "stdout",
     "output_type": "stream",
     "text": [
      "X.shape =  (10411613, 67)\n",
      "Y.shape =  (10411613, 19)\n",
      "X_train.shape =  (7808709, 67)\n",
      "y_train.shape =  (7808709, 19)\n",
      "X_test.shape =  (2602904, 67)\n",
      "y_test.shape =  (2602904, 19)\n"
     ]
    }
   ],
   "source": [
    "data_np = data_clean.to_numpy(dtype=\"float32\")\n",
    "data_np = data_np[~np.isinf(data_np).any(axis=1)]\n",
    "\n",
    "del df\n",
    "\n",
    "X = data_np[:, 0:67]\n",
    "\n",
    "enc = OneHotEncoder()\n",
    "\n",
    "Y = enc.fit_transform(data_np[:,68:]).toarray()\n",
    "\n",
    "scaler = StandardScaler()\n",
    "X_scaled = scaler.fit_transform(X)\n",
    "\n",
    "# Split the data set into training and testing\n",
    "X_train, X_test, Y_train, Y_test = train_test_split(\n",
    "    X_scaled, Y, test_size=0.25, random_state=2, shuffle=True)\n",
    "\n",
    "\n",
    "_features = X.shape[1]\n",
    "n_classes = Y.shape[1]\n",
    "\n",
    "print('X.shape = ',X.shape)\n",
    "print('Y.shape = ',Y.shape)\n",
    "print('X_train.shape = ',X_train.shape)\n",
    "print('y_train.shape = ', Y_train.shape)\n",
    "print('X_test.shape = ', X_test.shape)\n",
    "print('y_test.shape = ',Y_test.shape)"
   ]
  },
  {
   "cell_type": "code",
   "execution_count": 23,
   "id": "27e42ae2",
   "metadata": {},
   "outputs": [],
   "source": [
    "del data_np\n",
    "del data_clean"
   ]
  },
  {
   "cell_type": "code",
   "execution_count": null,
   "id": "53519cee",
   "metadata": {},
   "outputs": [],
   "source": []
  },
  {
   "cell_type": "markdown",
   "id": "d194c7c4",
   "metadata": {},
   "source": [
    "# DNN"
   ]
  },
  {
   "cell_type": "code",
   "execution_count": 24,
   "id": "68a853c6",
   "metadata": {},
   "outputs": [
    {
     "name": "stdout",
     "output_type": "stream",
     "text": [
      "Model: \"sequential\"\n",
      "_________________________________________________________________\n",
      " Layer (type)                Output Shape              Param #   \n",
      "=================================================================\n",
      " dense (Dense)               (None, 128)               8704      \n",
      "                                                                 \n",
      " dropout (Dropout)           (None, 128)               0         \n",
      "                                                                 \n",
      " dense_1 (Dense)             (None, 256)               33024     \n",
      "                                                                 \n",
      " dropout_1 (Dropout)         (None, 256)               0         \n",
      "                                                                 \n",
      " dense_2 (Dense)             (None, 128)               32896     \n",
      "                                                                 \n",
      " dropout_2 (Dropout)         (None, 128)               0         \n",
      "                                                                 \n",
      " dense_3 (Dense)             (None, 19)                2451      \n",
      "                                                                 \n",
      " dense_4 (Dense)             (None, 19)                380       \n",
      "                                                                 \n",
      "=================================================================\n",
      "Total params: 77,455\n",
      "Trainable params: 77,455\n",
      "Non-trainable params: 0\n",
      "_________________________________________________________________\n",
      "Epoch 1/30\n",
      "61006/61006 [==============================] - 191s 3ms/step - loss: 0.0070 - accuracy: 0.9788 - val_loss: 0.0020 - val_accuracy: 0.9924\n",
      "Epoch 2/30\n",
      "61006/61006 [==============================] - 190s 3ms/step - loss: 0.0020 - accuracy: 0.9932 - val_loss: 0.0017 - val_accuracy: 0.9933\n",
      "Epoch 3/30\n",
      "61006/61006 [==============================] - 190s 3ms/step - loss: 0.0016 - accuracy: 0.9942 - val_loss: 0.0011 - val_accuracy: 0.9951\n",
      "Epoch 4/30\n",
      "61006/61006 [==============================] - 189s 3ms/step - loss: 0.0014 - accuracy: 0.9948 - val_loss: 0.0011 - val_accuracy: 0.9957\n",
      "Epoch 5/30\n",
      "61006/61006 [==============================] - 188s 3ms/step - loss: 0.0013 - accuracy: 0.9953 - val_loss: 9.3077e-04 - val_accuracy: 0.9959\n",
      "Epoch 6/30\n",
      "61006/61006 [==============================] - 189s 3ms/step - loss: 0.0012 - accuracy: 0.9956 - val_loss: 9.8181e-04 - val_accuracy: 0.9964\n",
      "Epoch 7/30\n",
      "61006/61006 [==============================] - 191s 3ms/step - loss: 0.0012 - accuracy: 0.9958 - val_loss: 7.9594e-04 - val_accuracy: 0.9963\n",
      "Epoch 8/30\n",
      "61006/61006 [==============================] - 190s 3ms/step - loss: 0.0011 - accuracy: 0.9959 - val_loss: 7.4280e-04 - val_accuracy: 0.9965\n",
      "Epoch 9/30\n",
      "61006/61006 [==============================] - 189s 3ms/step - loss: 0.0011 - accuracy: 0.9961 - val_loss: 7.4744e-04 - val_accuracy: 0.9964\n",
      "Epoch 10/30\n",
      "61006/61006 [==============================] - 186s 3ms/step - loss: 0.0010 - accuracy: 0.9963 - val_loss: 8.6314e-04 - val_accuracy: 0.9967\n",
      "Epoch 11/30\n",
      "61006/61006 [==============================] - 190s 3ms/step - loss: 0.0010 - accuracy: 0.9963 - val_loss: 7.7187e-04 - val_accuracy: 0.9967\n",
      "Epoch 12/30\n",
      "61006/61006 [==============================] - 192s 3ms/step - loss: 9.8739e-04 - accuracy: 0.9964 - val_loss: 6.9420e-04 - val_accuracy: 0.9969\n",
      "Epoch 13/30\n",
      "61006/61006 [==============================] - 192s 3ms/step - loss: 9.6551e-04 - accuracy: 0.9965 - val_loss: 8.5444e-04 - val_accuracy: 0.9969\n",
      "Epoch 14/30\n",
      "61006/61006 [==============================] - 193s 3ms/step - loss: 9.5256e-04 - accuracy: 0.9966 - val_loss: 8.1225e-04 - val_accuracy: 0.9971\n",
      "Epoch 15/30\n",
      "61006/61006 [==============================] - 189s 3ms/step - loss: 9.3609e-04 - accuracy: 0.9966 - val_loss: 6.5416e-04 - val_accuracy: 0.9971\n",
      "Epoch 16/30\n",
      "61006/61006 [==============================] - 194s 3ms/step - loss: 9.1823e-04 - accuracy: 0.9967 - val_loss: 6.8174e-04 - val_accuracy: 0.9972\n",
      "Epoch 17/30\n",
      "61006/61006 [==============================] - 191s 3ms/step - loss: 9.0459e-04 - accuracy: 0.9967 - val_loss: 7.7220e-04 - val_accuracy: 0.9973\n",
      "Epoch 18/30\n",
      "61006/61006 [==============================] - 192s 3ms/step - loss: 8.9440e-04 - accuracy: 0.9968 - val_loss: 6.5932e-04 - val_accuracy: 0.9973\n",
      "Epoch 19/30\n",
      "61006/61006 [==============================] - 193s 3ms/step - loss: 8.7791e-04 - accuracy: 0.9968 - val_loss: 5.9875e-04 - val_accuracy: 0.9973\n",
      "Epoch 20/30\n",
      "61006/61006 [==============================] - 193s 3ms/step - loss: 8.7137e-04 - accuracy: 0.9969 - val_loss: 7.0764e-04 - val_accuracy: 0.9974\n",
      "Epoch 21/30\n",
      "61006/61006 [==============================] - 194s 3ms/step - loss: 8.5900e-04 - accuracy: 0.9970 - val_loss: 9.3382e-04 - val_accuracy: 0.9974\n",
      "Epoch 22/30\n",
      "61006/61006 [==============================] - 191s 3ms/step - loss: 8.5225e-04 - accuracy: 0.9972 - val_loss: 6.6837e-04 - val_accuracy: 0.9975\n",
      "Epoch 23/30\n",
      "61006/61006 [==============================] - 193s 3ms/step - loss: 8.4575e-04 - accuracy: 0.9972 - val_loss: 6.8919e-04 - val_accuracy: 0.9974\n",
      "Epoch 24/30\n",
      "61006/61006 [==============================] - 194s 3ms/step - loss: 8.4039e-04 - accuracy: 0.9975 - val_loss: 6.8252e-04 - val_accuracy: 0.9974\n",
      "Epoch 25/30\n",
      "61006/61006 [==============================] - 192s 3ms/step - loss: 8.3084e-04 - accuracy: 0.9975 - val_loss: 6.8694e-04 - val_accuracy: 0.9975\n",
      "Epoch 26/30\n",
      "61006/61006 [==============================] - 191s 3ms/step - loss: 8.2442e-04 - accuracy: 0.9976 - val_loss: 6.6965e-04 - val_accuracy: 0.9975\n",
      "Epoch 27/30\n",
      "61006/61006 [==============================] - 195s 3ms/step - loss: 8.1329e-04 - accuracy: 0.9977 - val_loss: 6.1165e-04 - val_accuracy: 0.9978\n",
      "Epoch 28/30\n",
      "61006/61006 [==============================] - 192s 3ms/step - loss: 8.1347e-04 - accuracy: 0.9977 - val_loss: 6.8438e-04 - val_accuracy: 0.9978\n",
      "Epoch 29/30\n",
      "61006/61006 [==============================] - 192s 3ms/step - loss: 8.0779e-04 - accuracy: 0.9978 - val_loss: 6.1343e-04 - val_accuracy: 0.9979\n",
      "Epoch 30/30\n",
      "61006/61006 [==============================] - 188s 3ms/step - loss: 8.0073e-04 - accuracy: 0.9978 - val_loss: 7.7444e-04 - val_accuracy: 0.9979\n"
     ]
    }
   ],
   "source": [
    "from tensorflow.keras.callbacks import EarlyStopping\n",
    "\n",
    "\n",
    "# Simple 3 Layer Dense Model\n",
    "model = Sequential()\n",
    "model.add(Dense(128, input_dim=_features, activation='relu'))\n",
    "model.add(Dropout(0.1))\n",
    "model.add(Dense(256, activation='relu'))\n",
    "model.add(Dropout(0.1))\n",
    "model.add(Dense(128, activation='relu'))\n",
    "model.add(Dropout(0.1))\n",
    "model.add(Dense(n_classes, kernel_initializer='normal'))\n",
    "model.add(Dense(n_classes, activation = 'softmax'))\n",
    "model.summary() \n",
    "\n",
    "opt = keras.optimizers.Adam(learning_rate=0.0001)\n",
    "model.compile(loss='BinaryCrossentropy', optimizer=opt, metrics=['accuracy'])\n",
    "\n",
    "early_stop_callback = keras.callbacks.EarlyStopping(monitor='loss', patience=5)\n",
    "reduce_lr = keras.callbacks.ReduceLROnPlateau(monitor='val_loss', factor=0.2,\n",
    "                                  patience=3, min_lr=0.001)\n",
    "    \n",
    "history = model.fit(X_train, Y_train,\n",
    "                              batch_size=128,\n",
    "                              epochs=30,\n",
    "                              verbose=True, #,callbacks=[reduce_lr, early_stop_callback],\n",
    "                              validation_data=(X_test, Y_test))"
   ]
  },
  {
   "cell_type": "code",
   "execution_count": 25,
   "id": "423c978a",
   "metadata": {},
   "outputs": [],
   "source": [
    "model.save('H:/Datasets/CIC-DDoS2019/first_model_dnn.h5')"
   ]
  },
  {
   "cell_type": "code",
   "execution_count": 26,
   "id": "0c8e545c",
   "metadata": {},
   "outputs": [
    {
     "name": "stdout",
     "output_type": "stream",
     "text": [
      "81341/81341 [==============================] - 120s 1ms/step - loss: 7.7438e-04 - accuracy: 0.9979\n",
      "81341/81341 [==============================] - 63s 767us/step\n"
     ]
    },
    {
     "name": "stderr",
     "output_type": "stream",
     "text": [
      "C:\\Users\\Maruata\\anaconda3\\lib\\site-packages\\sklearn\\metrics\\_classification.py:1318: UndefinedMetricWarning: Precision is ill-defined and being set to 0.0 in labels with no predicted samples. Use `zero_division` parameter to control this behavior.\n",
      "  _warn_prf(average, modifier, msg_start, len(result))\n"
     ]
    },
    {
     "name": "stdout",
     "output_type": "stream",
     "text": [
      "Completed\n",
      "Time taken: 0:03:51.756136\n",
      "Validation score: 0.9979240596195634\n",
      "Evaluation score: [0.0007743812166154385, 0.9979240404319763]\n",
      "Recall score: 0.9979240596195634\n",
      "Precision score: 0.9979264951106068\n",
      "F1 Measure score: 0.9979240417850446\n",
      "ROC-AUC score: 0.940128860819773\n"
     ]
    }
   ],
   "source": [
    "import datetime as dt\n",
    "from sklearn.metrics import accuracy_score, confusion_matrix, precision_score, recall_score, f1_score, roc_auc_score\n",
    "from sklearn import preprocessing\n",
    "\n",
    "start = dt.datetime.now()\n",
    "\n",
    "escore = model.evaluate(X_test, Y_test, batch_size=32)\n",
    "pred = model.predict(X_test)\n",
    "pred = np.argmax(pred,axis=1)\n",
    "y_eval = np.argmax(Y_test,axis=1)\n",
    "\n",
    "score = metrics.accuracy_score(y_eval, pred)\n",
    "rscore = recall_score(y_eval, pred, average='weighted')\n",
    "ascore = precision_score(y_eval, pred, average='weighted')\n",
    "f1score= f1_score(y_eval, pred, average='weighted') #F1 = 2 * (precision * recall) / (precision + recall) for manual\n",
    "\n",
    "lb = preprocessing.LabelBinarizer()\n",
    "lb.fit(y_eval)\n",
    "y_eval = lb.transform(y_eval)\n",
    "pred = lb.transform(pred)\n",
    "roc_score = roc_auc_score(y_eval, pred)\n",
    "#roc_auc_socre = multiclass_roc_auc_score(y_eval, pred)\n",
    "\n",
    "print('Completed')\n",
    "print('Time taken:',dt.datetime.now()-start)\n",
    "\n",
    "print(\"Validation score: {}\".format(score))\n",
    "print(\"Evaluation score: {}\".format(escore))\n",
    "print(\"Recall score: {}\".format(rscore))\n",
    "print(\"Precision score: {}\".format(ascore))\n",
    "print(\"F1 Measure score: {}\".format(f1score))\n",
    "print(\"ROC-AUC score: {}\".format(roc_score))"
   ]
  },
  {
   "cell_type": "code",
   "execution_count": 27,
   "id": "4897e74a",
   "metadata": {},
   "outputs": [],
   "source": [
    "# Plot for training and validation loss\n",
    "history_dict = history.history\n",
    "loss_values = history_dict['loss']\n",
    "val_loss_values = history_dict['val_loss']\n",
    "acc = history_dict['accuracy']\n",
    "val_acc = history_dict['val_accuracy']"
   ]
  },
  {
   "cell_type": "code",
   "execution_count": 28,
   "id": "a77be8c7",
   "metadata": {},
   "outputs": [
    {
     "name": "stdout",
     "output_type": "stream",
     "text": [
      "81341/81341 [==============================] - 62s 756us/step\n",
      "Inference time: 83.75 seconds\n"
     ]
    }
   ],
   "source": [
    "import time\n",
    "\n",
    "# Measure inference time\n",
    "start_time = time.time()\n",
    "pred = model.predict(X_test)\n",
    "end_time = time.time()\n",
    "\n",
    "inference_time = end_time - start_time\n",
    "print(\"Inference time: {:.2f} seconds\".format(inference_time))\n",
    "\n",
    "pred = np.argmax(pred,axis=1)\n",
    "y_test = Y_test.argmax(axis=1)"
   ]
  },
  {
   "cell_type": "code",
   "execution_count": 29,
   "id": "edee900d",
   "metadata": {},
   "outputs": [
    {
     "data": {
      "text/plain": [
       "array([[  23601,      39,       0,       7,      55,       3,       3,\n",
       "              1,       9,       4,       4,       1,      10,      22,\n",
       "            152,       0,       1,       0,       0],\n",
       "       [     56,   26192,       0,       0,       0,       3,       0,\n",
       "              0,       0,       0,       0,       0,       0,       1,\n",
       "              0,       6,       0,       0,       0],\n",
       "       [     14,      40,    7363,       0,       0,       2,       0,\n",
       "              0,       0,       0,       0,       0,       0,       0,\n",
       "              0,       0,       0,       0,       0],\n",
       "       [     10,      13,      18,   48482,       1,       0,       0,\n",
       "              0,       0,       0,       0,       0,       0,       0,\n",
       "              0,       0,       0,       0,       0],\n",
       "       [     46,       1,       0,       0,  277967,       8,      42,\n",
       "              0,       0,       0,       0,       0,       0,       0,\n",
       "              0,       0,       0,       0,       0],\n",
       "       [     10,       0,       0,      73,      50,    5084,       4,\n",
       "              0,       0,       0,       0,       0,       0,       0,\n",
       "              0,       0,       0,       0,       0],\n",
       "       [     27,       1,       0,       0,      98,       7,   27428,\n",
       "            590,       8,       0,       0,       0,       0,       0,\n",
       "              0,       0,       0,       0,       0],\n",
       "       [     15,       0,       0,       0,       0,       0,      24,\n",
       "         224554,      65,       0,       0,       0,       0,       0,\n",
       "              0,       0,       0,       0,       0],\n",
       "       [      3,       0,       0,       0,       2,       0,       1,\n",
       "              0,  266741,       0,       0,       0,       0,       3,\n",
       "              6,       0,       0,       0,       0],\n",
       "       [     14,       0,       0,       0,       0,       0,       0,\n",
       "              0,       0,    4338,       0,       0,       0,       3,\n",
       "              0,       0,       0,       0,       0],\n",
       "       [     42,       6,       0,       0,       0,       0,       0,\n",
       "              0,       0,       0,   62886,       6,       0,      28,\n",
       "              0,      96,       0,       0,       0],\n",
       "       [     14,       0,       0,       0,       0,       0,       0,\n",
       "              0,       0,      26,      29,    2394,       0,      17,\n",
       "              0,       0,       0,       0,       0],\n",
       "       [      4,       1,       0,       0,       0,       0,       0,\n",
       "              0,       0,       0,       8,      13,     334,       0,\n",
       "              0,       0,       0,       0,       0],\n",
       "       [    122,      20,       0,       0,       1,       0,       0,\n",
       "              0,      19,       0,       1,       1,      12,  169235,\n",
       "              0,      13,       0,       0,       0],\n",
       "       [     43,       0,       0,       0,       2,       0,       0,\n",
       "              0,       4,       0,       0,       0,       0,       6,\n",
       "        1099899,       0,      31,       0,       0],\n",
       "       [      3,      17,       0,       0,       0,       0,       0,\n",
       "              0,       0,       0,       2,       0,       0,       4,\n",
       "              0,  331498,       0,       0,       0],\n",
       "       [      4,       0,       0,       0,       0,       0,       0,\n",
       "              0,       0,       0,       0,       0,       0,       0,\n",
       "            103,       0,   22448,       0,       0],\n",
       "       [      1,      30,       0,       0,       0,       0,       0,\n",
       "              0,       0,       0,       0,       0,       0,       4,\n",
       "              0,      75,       0,       0,       0],\n",
       "       [      2,       0,       0,       0,       0,       0,       0,\n",
       "              0,       0,       0,       0,       0,       0,       0,\n",
       "             94,       0,       0,       0,       0]], dtype=int64)"
      ]
     },
     "execution_count": 29,
     "metadata": {},
     "output_type": "execute_result"
    }
   ],
   "source": [
    "from sklearn.metrics import confusion_matrix, precision_score, recall_score\n",
    "import seaborn as sn\n",
    "\n",
    "confMat = confusion_matrix(y_test, pred)\n",
    "confMat"
   ]
  },
  {
   "cell_type": "code",
   "execution_count": 30,
   "id": "3a132662",
   "metadata": {},
   "outputs": [],
   "source": [
    "start_by_epoch = 1\n",
    "epochs = range(start_by_epoch, len(loss_values) + 1)"
   ]
  },
  {
   "cell_type": "code",
   "execution_count": null,
   "id": "6f3e264f",
   "metadata": {},
   "outputs": [],
   "source": [
    "plt.plot(epochs, acc[start_by_epoch-1:], label='Training accuracy')\n",
    "plt.plot(epochs, val_acc[start_by_epoch-1:], label='Validation accuracy')\n",
    "plt.title('DNN: Training and validation accuracy')\n",
    "plt.xlabel('Epochs')\n",
    "plt.ylabel('Accuracy')\n",
    "plt.legend(['Training', 'Test'], loc='lower right')\n",
    "\n",
    "plt.show()\n",
    "plt.clf()"
   ]
  },
  {
   "cell_type": "code",
   "execution_count": null,
   "id": "c91c575d",
   "metadata": {},
   "outputs": [],
   "source": [
    "plt.plot(epochs, loss_values[start_by_epoch-1:], label='Training Loss')\n",
    "plt.plot(epochs, val_loss_values[start_by_epoch-1:], label='Validation Loss')\n",
    "plt.title('DNN: Training and validation loss')\n",
    "plt.xlabel('Epochs')\n",
    "plt.ylabel('Loss')\n",
    "plt.legend(['Training', 'Validation'], loc='upper right')\n",
    "\n",
    "plt.tight_layout()\n",
    "\n",
    "plt.show()\n",
    "plt.clf()"
   ]
  },
  {
   "cell_type": "code",
   "execution_count": null,
   "id": "b4c49d25",
   "metadata": {},
   "outputs": [],
   "source": [
    "cf_matrix = confusion_matrix(y_test, pred)\n",
    "cm_df = pd.DataFrame(cf_matrix)\n",
    "\n",
    "labels = ['TFTP','DrDoS_SNMP','DrDoS_DNS','DrDoS_MSSQL','DrDoS_NetBIOS','DrDoS_UDP','DrDoS_SSDP','Syn',\n",
    "          'DrDoS_LDAP','DrDoS_NTP','MSSQL','UDP','NetBIOS','LDAP','UDP-lag','BENIGN','Portmap','WebDDoS','UDPLag']\n",
    "\n",
    "#plt.figure(figsize=(20,15))\n",
    "#sn.set(font_scale=1.4)\n",
    "sn.set(rc = {'figure.figsize':(15,10)})\n",
    "sn.heatmap(cm_df, annot=True, annot_kws={\"size\":12}, fmt='g', xticklabels=labels, yticklabels=labels, cmap='Blues')\n",
    "\n",
    "#sn.heatmap(cm_df, annot=True, annot_kws={\"size\":12}, fmt='g', xticklabels=labels, yticklabels=labels)\n",
    "plt.ylabel('Actual Class')\n",
    "plt.xlabel('Predicted Class')\n",
    "    \n",
    "plt.show()  "
   ]
  },
  {
   "cell_type": "code",
   "execution_count": null,
   "id": "12c99160",
   "metadata": {},
   "outputs": [],
   "source": []
  },
  {
   "cell_type": "markdown",
   "id": "cd32885f",
   "metadata": {},
   "source": [
    "# DCNN"
   ]
  },
  {
   "cell_type": "code",
   "execution_count": 34,
   "id": "6311dcc4",
   "metadata": {},
   "outputs": [
    {
     "name": "stdout",
     "output_type": "stream",
     "text": [
      "Model: \"sequential_1\"\n",
      "_________________________________________________________________\n",
      " Layer (type)                Output Shape              Param #   \n",
      "=================================================================\n",
      " conv1d (Conv1D)             (None, 62, 128)           896       \n",
      "                                                                 \n",
      " activation (Activation)     (None, 62, 128)           0         \n",
      "                                                                 \n",
      " max_pooling1d (MaxPooling1D  (None, 31, 128)          0         \n",
      " )                                                               \n",
      "                                                                 \n",
      " conv1d_1 (Conv1D)           (None, 26, 256)           196864    \n",
      "                                                                 \n",
      " activation_1 (Activation)   (None, 26, 256)           0         \n",
      "                                                                 \n",
      " max_pooling1d_1 (MaxPooling  (None, 13, 256)          0         \n",
      " 1D)                                                             \n",
      "                                                                 \n",
      " conv1d_2 (Conv1D)           (None, 8, 128)            196736    \n",
      "                                                                 \n",
      " activation_2 (Activation)   (None, 8, 128)            0         \n",
      "                                                                 \n",
      " max_pooling1d_2 (MaxPooling  (None, 4, 128)           0         \n",
      " 1D)                                                             \n",
      "                                                                 \n",
      " flatten (Flatten)           (None, 512)               0         \n",
      "                                                                 \n",
      " dense_5 (Dense)             (None, 256)               131328    \n",
      "                                                                 \n",
      " dropout_3 (Dropout)         (None, 256)               0         \n",
      "                                                                 \n",
      " dense_6 (Dense)             (None, 128)               32896     \n",
      "                                                                 \n",
      " dropout_4 (Dropout)         (None, 128)               0         \n",
      "                                                                 \n",
      " dense_7 (Dense)             (None, 96)                12384     \n",
      "                                                                 \n",
      " dropout_5 (Dropout)         (None, 96)                0         \n",
      "                                                                 \n",
      " dense_8 (Dense)             (None, 128)               12416     \n",
      "                                                                 \n",
      " dropout_6 (Dropout)         (None, 128)               0         \n",
      "                                                                 \n",
      " dense_9 (Dense)             (None, 96)                12384     \n",
      "                                                                 \n",
      " dropout_7 (Dropout)         (None, 96)                0         \n",
      "                                                                 \n",
      " dense_10 (Dense)            (None, 19)                1843      \n",
      "                                                                 \n",
      "=================================================================\n",
      "Total params: 597,747\n",
      "Trainable params: 597,747\n",
      "Non-trainable params: 0\n",
      "_________________________________________________________________\n",
      "Epoch 1/30\n",
      "61006/61006 [==============================] - 324s 5ms/step - loss: 0.0089 - accuracy: 0.9948 - val_loss: 0.0087 - val_accuracy: 0.9954\n",
      "Epoch 2/30\n",
      "61006/61006 [==============================] - 323s 5ms/step - loss: 0.0085 - accuracy: 0.9953 - val_loss: 0.0071 - val_accuracy: 0.9957\n",
      "Epoch 3/30\n",
      "61006/61006 [==============================] - 327s 5ms/step - loss: 0.0081 - accuracy: 0.9956 - val_loss: 0.0069 - val_accuracy: 0.9958\n",
      "Epoch 4/30\n",
      "61006/61006 [==============================] - 323s 5ms/step - loss: 0.0074 - accuracy: 0.9958 - val_loss: 0.0063 - val_accuracy: 0.9958\n",
      "Epoch 5/30\n",
      "61006/61006 [==============================] - 322s 5ms/step - loss: 0.0074 - accuracy: 0.9957 - val_loss: 0.0061 - val_accuracy: 0.9959\n",
      "Epoch 6/30\n",
      "61006/61006 [==============================] - 326s 5ms/step - loss: 0.0067 - accuracy: 0.9960 - val_loss: 0.0061 - val_accuracy: 0.9961\n",
      "Epoch 7/30\n",
      "61006/61006 [==============================] - 322s 5ms/step - loss: 0.0065 - accuracy: 0.9960 - val_loss: 0.0056 - val_accuracy: 0.9961\n",
      "Epoch 8/30\n",
      "61006/61006 [==============================] - 329s 5ms/step - loss: 0.0062 - accuracy: 0.9959 - val_loss: 0.0055 - val_accuracy: 0.9958\n",
      "Epoch 9/30\n",
      "61006/61006 [==============================] - 326s 5ms/step - loss: 0.0055 - accuracy: 0.9960 - val_loss: 0.0051 - val_accuracy: 0.9958\n",
      "Epoch 10/30\n",
      "61006/61006 [==============================] - 329s 5ms/step - loss: 0.0055 - accuracy: 0.9960 - val_loss: 0.0048 - val_accuracy: 0.9961\n",
      "Epoch 11/30\n",
      "61006/61006 [==============================] - 327s 5ms/step - loss: 0.0055 - accuracy: 0.9961 - val_loss: 0.0047 - val_accuracy: 0.9962\n",
      "Epoch 12/30\n",
      "61006/61006 [==============================] - 325s 5ms/step - loss: 0.0054 - accuracy: 0.9962 - val_loss: 0.0044 - val_accuracy: 0.9964\n",
      "Epoch 13/30\n",
      "61006/61006 [==============================] - 328s 5ms/step - loss: 0.0054 - accuracy: 0.9965 - val_loss: 0.0044 - val_accuracy: 0.9971\n",
      "Epoch 14/30\n",
      "61006/61006 [==============================] - 327s 5ms/step - loss: 0.0052 - accuracy: 0.9969 - val_loss: 0.0042 - val_accuracy: 0.9973\n",
      "Epoch 15/30\n",
      "61006/61006 [==============================] - 322s 5ms/step - loss: 0.0051 - accuracy: 0.9971 - val_loss: 0.0041 - val_accuracy: 0.9973\n",
      "Epoch 16/30\n",
      "61006/61006 [==============================] - 324s 5ms/step - loss: 0.0052 - accuracy: 0.9970 - val_loss: 0.0042 - val_accuracy: 0.9974\n",
      "Epoch 17/30\n",
      "61006/61006 [==============================] - 324s 5ms/step - loss: 0.0046 - accuracy: 0.9971 - val_loss: 0.0038 - val_accuracy: 0.9974\n",
      "Epoch 18/30\n",
      "61006/61006 [==============================] - 321s 5ms/step - loss: 0.0044 - accuracy: 0.9974 - val_loss: 0.0039 - val_accuracy: 0.9977\n",
      "Epoch 19/30\n",
      "61006/61006 [==============================] - 327s 5ms/step - loss: 0.0040 - accuracy: 0.9974 - val_loss: 0.0037 - val_accuracy: 0.9977\n",
      "Epoch 20/30\n",
      "61006/61006 [==============================] - 326s 5ms/step - loss: 0.0039 - accuracy: 0.9975 - val_loss: 0.0036 - val_accuracy: 0.9977\n",
      "Epoch 21/30\n",
      "61006/61006 [==============================] - 326s 5ms/step - loss: 0.0036 - accuracy: 0.9976 - val_loss: 0.0035 - val_accuracy: 0.9978\n",
      "Epoch 22/30\n",
      "61006/61006 [==============================] - 327s 5ms/step - loss: 0.0035 - accuracy: 0.9980 - val_loss: 0.0031 - val_accuracy: 0.9979\n",
      "Epoch 23/30\n",
      "61006/61006 [==============================] - 325s 5ms/step - loss: 0.0035 - accuracy: 0.9981 - val_loss: 0.0031 - val_accuracy: 0.9980\n",
      "Epoch 24/30\n",
      "61006/61006 [==============================] - 324s 5ms/step - loss: 0.0030 - accuracy: 0.9983 - val_loss: 0.0031 - val_accuracy: 0.9981\n",
      "Epoch 25/30\n",
      "61006/61006 [==============================] - 325s 5ms/step - loss: 0.0027 - accuracy: 0.9981 - val_loss: 0.0031 - val_accuracy: 0.9981\n",
      "Epoch 26/30\n",
      "61006/61006 [==============================] - 327s 5ms/step - loss: 0.0025 - accuracy: 0.9983 - val_loss: 0.0029 - val_accuracy: 0.9981\n",
      "Epoch 27/30\n",
      "61006/61006 [==============================] - 325s 5ms/step - loss: 0.0026 - accuracy: 0.9983 - val_loss: 0.0027 - val_accuracy: 0.9983\n",
      "Epoch 28/30\n",
      "61006/61006 [==============================] - 329s 5ms/step - loss: 0.0025 - accuracy: 0.9984 - val_loss: 0.0027 - val_accuracy: 0.9984\n",
      "Epoch 29/30\n",
      "61006/61006 [==============================] - 326s 5ms/step - loss: 0.0025 - accuracy: 0.9984 - val_loss: 0.0026 - val_accuracy: 0.9986\n",
      "Epoch 30/30\n",
      "61006/61006 [==============================] - 326s 5ms/step - loss: 0.0024 - accuracy: 0.9985 - val_loss: 0.0025 - val_accuracy: 0.9986\n"
     ]
    }
   ],
   "source": [
    "# In order to ignore FutureWarning\n",
    "import warnings\n",
    "warnings.simplefilter(action='ignore', category=FutureWarning)\n",
    "warnings.simplefilter(action='ignore', category=DeprecationWarning)\n",
    "\n",
    "from keras.models import Sequential\n",
    "from keras import callbacks\n",
    "from keras.layers import Dense, Activation, Flatten, Convolution1D, Dropout, MaxPooling1D\n",
    "from sklearn import metrics\n",
    "from hyperopt import fmin, hp, tpe, Trials, STATUS_OK\n",
    "from hyperopt.plotting import main_plot_history, main_plot_vars\n",
    "import uuid\n",
    "import gc\n",
    "from tensorflow import keras\n",
    "import tensorflow as tf\n",
    "\n",
    "K = keras.backend\n",
    "\n",
    "X_train = X_train.reshape(X_train.shape[0], _features, 1).astype('float32')\n",
    "X_test = X_test.reshape(X_test.shape[0], _features, 1).astype('float32')\n",
    "\n",
    "\n",
    "# DCNN Model\n",
    "model = Sequential()\n",
    "model.add(Convolution1D(filters=128, kernel_size=6, input_shape=(_features, 1)))\n",
    "model.add(Activation('relu'))\n",
    "model.add(MaxPooling1D(pool_size=2))\n",
    "model.add(Convolution1D(filters=256, kernel_size=6))\n",
    "model.add(Activation('relu'))\n",
    "model.add(MaxPooling1D(pool_size=2))\n",
    "model.add(Convolution1D(filters=128, kernel_size=6))\n",
    "model.add(Activation('relu'))\n",
    "model.add(MaxPooling1D(pool_size=2))\n",
    "model.add(Flatten())\n",
    "model.add(Dense(256, activation='relu'))\n",
    "model.add(Dropout(0.1))\n",
    "model.add(Dense(128, activation='relu'))\n",
    "model.add(Dropout(0.1))\n",
    "model.add(Dense(96, activation='relu'))\n",
    "model.add(Dropout(0.1))\n",
    "model.add(Dense(128, activation='relu'))\n",
    "model.add(Dropout(0.1))\n",
    "model.add(Dense(96, activation='relu'))\n",
    "model.add(Dropout(0.1))\n",
    "model.add(Dense(n_classes, activation = 'softmax'))\n",
    "model.summary() \n",
    "\n",
    "opt = keras.optimizers.Adam(learning_rate=0.0001)\n",
    "model.compile(loss='categorical_crossentropy',optimizer=opt, metrics=['accuracy'])\n",
    "\n",
    "early_stop_callback = keras.callbacks.EarlyStopping(monitor='loss', patience=5)\n",
    "reduce_lr = keras.callbacks.ReduceLROnPlateau(monitor='val_loss', factor=0.2,\n",
    "                                  patience=3, min_lr=0.0001)\n",
    "    \n",
    "history = model.fit(X_train, Y_train,\n",
    "                              batch_size=128,\n",
    "                              epochs=30,\n",
    "                              verbose=True, #callbacks=[reduce_lr, early_stop_callback],\n",
    "                              validation_data=(X_test, Y_test))  "
   ]
  },
  {
   "cell_type": "code",
   "execution_count": 35,
   "id": "82929326",
   "metadata": {},
   "outputs": [],
   "source": [
    "model.save('H:/Datasets/CICDDoS2020/model_cnn.h5')"
   ]
  },
  {
   "cell_type": "code",
   "execution_count": 36,
   "id": "d2ae8638",
   "metadata": {},
   "outputs": [
    {
     "name": "stdout",
     "output_type": "stream",
     "text": [
      "81341/81341 [==============================] - 166s 2ms/step - loss: 0.0025 - accuracy: 0.9986\n",
      "81341/81341 [==============================] - 111s 1ms/step\n"
     ]
    },
    {
     "name": "stderr",
     "output_type": "stream",
     "text": [
      "C:\\Users\\Maruata\\anaconda3\\lib\\site-packages\\sklearn\\metrics\\_classification.py:1318: UndefinedMetricWarning: Precision is ill-defined and being set to 0.0 in labels with no predicted samples. Use `zero_division` parameter to control this behavior.\n",
      "  _warn_prf(average, modifier, msg_start, len(result))\n"
     ]
    },
    {
     "name": "stdout",
     "output_type": "stream",
     "text": [
      "Completed\n",
      "Time taken: 0:05:06.521692\n",
      "Validation score: 0.9986371379659027\n",
      "Evaluation score: [0.002468891330063343, 0.9986371247673035]\n",
      "Recall score: 0.9986371379659027\n",
      "Precision score: 0.9986354296524001\n",
      "F1 Measure score: 0.9986365855345629\n",
      "ROC-AUC score: 0.9276053320390522\n"
     ]
    }
   ],
   "source": [
    "import datetime as dt\n",
    "from sklearn.metrics import accuracy_score, confusion_matrix, precision_score, recall_score, f1_score, roc_auc_score\n",
    "from sklearn import preprocessing\n",
    "\n",
    "start = dt.datetime.now()\n",
    "\n",
    "escore = model.evaluate(X_test, Y_test, batch_size=32)\n",
    "pred = model.predict(X_test)\n",
    "pred = np.argmax(pred,axis=1)\n",
    "y_eval = np.argmax(Y_test,axis=1)\n",
    "\n",
    "score = metrics.accuracy_score(y_eval, pred)\n",
    "rscore = recall_score(y_eval, pred, average='weighted')\n",
    "ascore = precision_score(y_eval, pred, average='weighted')\n",
    "f1score= f1_score(y_eval, pred, average='weighted') #F1 = 2 * (precision * recall) / (precision + recall) for manual\n",
    "\n",
    "lb = preprocessing.LabelBinarizer()\n",
    "lb.fit(y_eval)\n",
    "y_eval = lb.transform(y_eval)\n",
    "pred = lb.transform(pred)\n",
    "roc_score = roc_auc_score(y_eval, pred)\n",
    "#roc_auc_socre = multiclass_roc_auc_score(y_eval, pred)\n",
    "\n",
    "print('Completed')\n",
    "print('Time taken:',dt.datetime.now()-start)\n",
    "\n",
    "print(\"Validation score: {}\".format(score))\n",
    "print(\"Evaluation score: {}\".format(escore))\n",
    "print(\"Recall score: {}\".format(rscore))\n",
    "print(\"Precision score: {}\".format(ascore))\n",
    "print(\"F1 Measure score: {}\".format(f1score))\n",
    "print(\"ROC-AUC score: {}\".format(roc_score))"
   ]
  },
  {
   "cell_type": "code",
   "execution_count": 37,
   "id": "fb762d7e",
   "metadata": {},
   "outputs": [],
   "source": [
    "# Plot for training and validation loss\n",
    "history_dict = history.history\n",
    "loss_values = history_dict['loss']\n",
    "val_loss_values = history_dict['val_loss']\n",
    "acc = history_dict['accuracy']\n",
    "val_acc = history_dict['val_accuracy']"
   ]
  },
  {
   "cell_type": "code",
   "execution_count": 38,
   "id": "2a191ac8",
   "metadata": {},
   "outputs": [
    {
     "name": "stdout",
     "output_type": "stream",
     "text": [
      "81341/81341 [==============================] - 110s 1ms/step\n",
      "Inference time: 131.95 seconds\n"
     ]
    }
   ],
   "source": [
    "import time\n",
    "\n",
    "# Measure inference time\n",
    "start_time = time.time()\n",
    "pred = model.predict(X_test)\n",
    "end_time = time.time()\n",
    "\n",
    "inference_time = end_time - start_time\n",
    "print(\"Inference time: {:.2f} seconds\".format(inference_time))\n",
    "\n",
    "pred = np.argmax(pred,axis=1)\n",
    "y_test = Y_test.argmax(axis=1)"
   ]
  },
  {
   "cell_type": "code",
   "execution_count": 39,
   "id": "5c56ab37",
   "metadata": {},
   "outputs": [
    {
     "data": {
      "text/plain": [
       "(2602904,)"
      ]
     },
     "execution_count": 39,
     "metadata": {},
     "output_type": "execute_result"
    }
   ],
   "source": [
    "pred.shape\n",
    "y_test.shape"
   ]
  },
  {
   "cell_type": "code",
   "execution_count": 40,
   "id": "2edd7e0b",
   "metadata": {},
   "outputs": [
    {
     "data": {
      "text/plain": [
       "array([[  23992,      48,       1,       1,      37,       2,       8,\n",
       "              1,       2,       1,       7,       2,       9,     127,\n",
       "              0,       0,       0,       0,       0],\n",
       "       [      0,   26883,       0,       0,       1,       0,       0,\n",
       "              0,       2,       0,       0,       0,       0,      13,\n",
       "              0,      64,       0,       0,       0],\n",
       "       [      0,       0,    7009,       0,       0,       0,      12,\n",
       "              0,       0,       0,       0,       0,       0,      10,\n",
       "              0,       0,       0,       0,       0],\n",
       "       [      0,      34,      12,   483593,      12,       0,       0,\n",
       "              0,       0,       0,       0,       0,       0,       1,\n",
       "              1,       0,       0,       0,       0],\n",
       "       [      0,       0,       0,       0,  277913,      13,      66,\n",
       "              3,       0,       0,       0,       0,       0,       5,\n",
       "              2,       0,       0,       0,       0],\n",
       "       [      0,       2,       0,      73,      92,    4757,       6,\n",
       "              0,       0,       0,       0,       0,       0,       0,\n",
       "              0,       0,       0,       0,       0],\n",
       "       [      0,       1,       0,       0,     104,       3,   26852,\n",
       "             37,      39,       0,       0,       0,       0,       0,\n",
       "              0,       0,       0,       0,       0],\n",
       "       [      0,       0,       0,       0,       2,       0,      25,\n",
       "         222540,      29,       0,       0,       0,       0,       0,\n",
       "              3,       0,       0,       0,       0],\n",
       "       [      0,       0,       0,       0,       4,       0,       2,\n",
       "             10,  269828,       0,       0,       0,       0,       1,\n",
       "             45,       0,       0,       0,       0],\n",
       "       [      0,       2,       0,       0,       0,       0,      12,\n",
       "              0,       0,    3928,       0,      42,       0,       1,\n",
       "              0,       0,       0,       0,       0],\n",
       "       [      0,       1,       0,       0,       0,       0,       0,\n",
       "              0,       0,      77,   63157,       6,       0,      34,\n",
       "              0,       0,       0,       0,       0],\n",
       "       [      6,       0,       0,       0,       0,       0,       0,\n",
       "              0,       0,       1,      51,    2531,       0,      21,\n",
       "              0,       0,       0,       0,       0],\n",
       "       [      2,       0,       0,       0,       0,       0,       0,\n",
       "              0,       0,       0,       4,       0,     210,       0,\n",
       "              0,       0,       0,       0,       0],\n",
       "       [      0,       1,       0,       0,       1,       0,       0,\n",
       "              0,       6,       0,       1,       0,       6,  169366,\n",
       "            190,       7,       1,       1,       0],\n",
       "       [      0,       0,       0,       0,       0,       0,       0,\n",
       "              0,       5,       0,       0,       0,       0,     557,\n",
       "        1099134,       0,       0,       0,       0],\n",
       "       [      2,      16,       0,       0,       1,       0,       0,\n",
       "              0,       0,       0,       1,       0,       0,      13,\n",
       "              0,  331581,       0,       0,       0],\n",
       "       [      3,       0,       0,       0,       0,       0,       0,\n",
       "              0,       2,       0,       0,       0,       0,       2,\n",
       "             96,       0,   22497,       0,       0],\n",
       "       [      1,      22,       0,       0,       0,       0,       0,\n",
       "              0,       0,       0,       0,       0,       0,       3,\n",
       "              0,      69,       0,      26,       0],\n",
       "       [      8,       0,       0,       0,       0,       0,       0,\n",
       "              0,       0,       0,       0,       0,       0,       0,\n",
       "             88,       0,       0,       0,       0]], dtype=int64)"
      ]
     },
     "execution_count": 40,
     "metadata": {},
     "output_type": "execute_result"
    }
   ],
   "source": [
    "from sklearn.metrics import confusion_matrix, precision_score, recall_score\n",
    "import seaborn as sn\n",
    "\n",
    "confMat = confusion_matrix(y_test, pred)\n",
    "confMat"
   ]
  },
  {
   "cell_type": "code",
   "execution_count": null,
   "id": "4a7d89a6",
   "metadata": {},
   "outputs": [],
   "source": [
    "cf_matrix = confusion_matrix(y_test, pred)\n",
    "cm_df = pd.DataFrame(cf_matrix)\n",
    "\n",
    "labels = ['TFTP','DrDoS_SNMP','DrDoS_DNS','DrDoS_MSSQL','DrDoS_NetBIOS','DrDoS_UDP','DrDoS_SSDP','Syn',\n",
    "          'DrDoS_LDAP','DrDoS_NTP','MSSQL','UDP','NetBIOS','LDAP','UDP-lag','BENIGN','Portmap','WebDDoS','UDPLag']\n",
    "\n",
    "#plt.figure(figsize=(20,15))\n",
    "#sn.set(font_scale=1.4)\n",
    "sn.set(rc = {'figure.figsize':(15,10)})\n",
    "sn.heatmap(cm_df, annot=True, annot_kws={\"size\":12}, fmt='g', xticklabels=labels, yticklabels=labels, cmap='Blues')\n",
    "\n",
    "#sn.heatmap(cm_df, annot=True, annot_kws={\"size\":12}, fmt='g', xticklabels=labels, yticklabels=labels)\n",
    "plt.ylabel('Actual Class')\n",
    "plt.xlabel('Predicted Class')\n",
    "    \n",
    "plt.show()  "
   ]
  },
  {
   "cell_type": "code",
   "execution_count": null,
   "id": "7e0b05c0",
   "metadata": {},
   "outputs": [],
   "source": []
  }
 ],
 "metadata": {
  "kernelspec": {
   "display_name": "Python 3 (ipykernel)",
   "language": "python",
   "name": "python3"
  },
  "language_info": {
   "codemirror_mode": {
    "name": "ipython",
    "version": 3
   },
   "file_extension": ".py",
   "mimetype": "text/x-python",
   "name": "python",
   "nbconvert_exporter": "python",
   "pygments_lexer": "ipython3",
   "version": "3.9.12"
  }
 },
 "nbformat": 4,
 "nbformat_minor": 5
}
